{
 "cells": [
  {
   "cell_type": "code",
   "execution_count": 133,
   "metadata": {},
   "outputs": [
    {
     "name": "stdout",
     "output_type": "stream",
     "text": [
      "The autoreload extension is already loaded. To reload it, use:\n",
      "  %reload_ext autoreload\n"
     ]
    }
   ],
   "source": [
    "%load_ext autoreload\n",
    "%autoreload 2"
   ]
  },
  {
   "cell_type": "code",
   "execution_count": 209,
   "metadata": {},
   "outputs": [],
   "source": [
    "from cv2 import *\n",
    "import numpy as np\n",
    "import matplotlib.pyplot as plt"
   ]
  },
  {
   "cell_type": "code",
   "execution_count": 274,
   "metadata": {},
   "outputs": [
    {
     "data": {
      "text/plain": [
       "<matplotlib.image.AxesImage at 0x7f01a1217b70>"
      ]
     },
     "execution_count": 274,
     "metadata": {},
     "output_type": "execute_result"
    },
    {
     "data": {
      "image/png": "[encoded data removed]",
      "text/plain": [
       "<Figure size 432x288 with 1 Axes>"
      ]
     },
     "metadata": {
      "needs_background": "light"
     },
     "output_type": "display_data"
    }
   ],
   "source": [
    "img = cv2.imread('data/cropped/main_cropped/3.png', 0)\n",
    "# _, img = cv2.threshold(img, 128, 255, cv2.THRESH_BINARY | cv2.THRESH_OTSU)\n",
    "\n",
    "plt.imshow(img)"
   ]
  },
  {
   "cell_type": "code",
   "execution_count": 275,
   "metadata": {},
   "outputs": [
    {
     "data": {
      "text/plain": [
       "3.5857663492991123"
      ]
     },
     "execution_count": 275,
     "metadata": {},
     "output_type": "execute_result"
    }
   ],
   "source": [
    "np.var(img)"
   ]
  },
  {
   "cell_type": "code",
   "execution_count": 224,
   "metadata": {},
   "outputs": [
    {
     "data": {
      "text/plain": [
       "145.55082417582418"
      ]
     },
     "execution_count": 224,
     "metadata": {},
     "output_type": "execute_result"
    }
   ],
   "source": [
    "img.mean()"
   ]
  },
  {
   "cell_type": "code",
   "execution_count": 225,
   "metadata": {},
   "outputs": [],
   "source": [
    "contours, hierarchy = cv2.findContours(img, cv2.RETR_EXTERNAL, cv2.CHAIN_APPROX_SIMPLE)"
   ]
  },
  {
   "cell_type": "code",
   "execution_count": 277,
   "metadata": {},
   "outputs": [
    {
     "data": {
      "text/plain": [
       "(0, 0, 26, 28)"
      ]
     },
     "execution_count": 277,
     "metadata": {},
     "output_type": "execute_result"
    }
   ],
   "source": [
    "cv2.boundingRect(contours[0])[0]"
   ]
  },
  {
   "cell_type": "code",
   "execution_count": 183,
   "metadata": {},
   "outputs": [
    {
     "data": {
      "text/plain": [
       "array([[[-1, -1, -1, -1]]], dtype=int32)"
      ]
     },
     "execution_count": 183,
     "metadata": {},
     "output_type": "execute_result"
    }
   ],
   "source": [
    "hierarchy"
   ]
  },
  {
   "cell_type": "code",
   "execution_count": 146,
   "metadata": {},
   "outputs": [
    {
     "data": {
      "text/plain": [
       "165"
      ]
     },
     "execution_count": 146,
     "metadata": {},
     "output_type": "execute_result"
    }
   ],
   "source": [
    "img.max()"
   ]
  },
  {
   "cell_type": "code",
   "execution_count": 135,
   "metadata": {},
   "outputs": [
    {
     "data": {
      "text/plain": [
       "<matplotlib.image.AxesImage at 0x7f01a3e5ea58>"
      ]
     },
     "execution_count": 135,
     "metadata": {},
     "output_type": "execute_result"
    },
    {
     "data": {
      "image/png": "[encoded data removed]",
      "text/plain": [
       "<Figure size 432x288 with 1 Axes>"
      ]
     },
     "metadata": {
      "needs_background": "light"
     },
     "output_type": "display_data"
    }
   ],
   "source": [
    "path = r'data/sample_img.jpg'\n",
    "img = cv2.imread(path, 0)\n",
    "plt.imshow(img)"
   ]
  },
  {
   "cell_type": "code",
   "execution_count": 136,
   "metadata": {},
   "outputs": [
    {
     "data": {
      "text/plain": [
       "True"
      ]
     },
     "execution_count": 136,
     "metadata": {},
     "output_type": "execute_result"
    }
   ],
   "source": [
    "(thresh, img_bin) = cv2.threshold(img, 128, 255,cv2.THRESH_BINARY|     cv2.THRESH_OTSU)\n",
    "\n",
    "# Invert the image\n",
    "img_bin = 255-img_bin \n",
    "cv2.imwrite('data/image_bin.jpg',img_bin)"
   ]
  },
  {
   "cell_type": "code",
   "execution_count": 140,
   "metadata": {},
   "outputs": [
    {
     "data": {
      "text/plain": [
       "255"
      ]
     },
     "execution_count": 140,
     "metadata": {},
     "output_type": "execute_result"
    }
   ],
   "source": [
    "img_bin.max() - img_bin.min()"
   ]
  },
  {
   "cell_type": "code",
   "execution_count": 5,
   "metadata": {},
   "outputs": [
    {
     "data": {
      "text/plain": [
       "<matplotlib.image.AxesImage at 0x7f01ab2afbe0>"
      ]
     },
     "execution_count": 5,
     "metadata": {},
     "output_type": "execute_result"
    },
    {
     "data": {
      "image/png": "[encoded data removed]",
      "text/plain": [
       "<Figure size 432x288 with 1 Axes>"
      ]
     },
     "metadata": {
      "needs_background": "light"
     },
     "output_type": "display_data"
    }
   ],
   "source": [
    "plt.imshow(img_bin)"
   ]
  },
  {
   "cell_type": "code",
   "execution_count": 6,
   "metadata": {},
   "outputs": [],
   "source": [
    "# Defining a kernel length\n",
    "kernel_length = np.array(img).shape[1]//80\n",
    " \n",
    "# A verticle kernel of (1 X kernel_length), which will detect all the verticle lines from the image.\n",
    "verticle_kernel = cv2.getStructuringElement(cv2.MORPH_RECT, (1, kernel_length))\n",
    "# A horizontal kernel of (kernel_length X 1), which will help to detect all the horizontal line from the image.\n",
    "hori_kernel = cv2.getStructuringElement(cv2.MORPH_RECT, (kernel_length, 1))\n",
    "# A kernel of (3 X 3) ones.\n",
    "kernel = cv2.getStructuringElement(cv2.MORPH_RECT, (3, 3))"
   ]
  },
  {
   "cell_type": "code",
   "execution_count": 7,
   "metadata": {},
   "outputs": [
    {
     "data": {
      "text/plain": [
       "True"
      ]
     },
     "execution_count": 7,
     "metadata": {},
     "output_type": "execute_result"
    }
   ],
   "source": [
    "# Morphological operation to detect vertical lines from an image\n",
    "img_temp1 = cv2.erode(img_bin, verticle_kernel, iterations=2)\n",
    "verticle_lines_img = cv2.dilate(img_temp1, verticle_kernel, iterations=1)\n",
    "cv2.imwrite('data/verticle_lines.jpg',verticle_lines_img)\n",
    "\n",
    "# Morphological operation to detect horizontal lines from an image\n",
    "img_temp2 = cv2.erode(img_bin, hori_kernel, iterations=2)\n",
    "horizontal_lines_img = cv2.dilate(img_temp2, hori_kernel, iterations=1)\n",
    "cv2.imwrite('data/horizontal_lines.jpg',horizontal_lines_img)"
   ]
  },
  {
   "cell_type": "code",
   "execution_count": 8,
   "metadata": {},
   "outputs": [
    {
     "data": {
      "text/plain": [
       "<matplotlib.image.AxesImage at 0x7f01ab2977b8>"
      ]
     },
     "execution_count": 8,
     "metadata": {},
     "output_type": "execute_result"
    },
    {
     "data": {
      "image/png": "[encoded data removed]",
      "text/plain": [
       "<Figure size 432x288 with 1 Axes>"
      ]
     },
     "metadata": {
      "needs_background": "light"
     },
     "output_type": "display_data"
    }
   ],
   "source": [
    "plt.imshow(verticle_lines_img)"
   ]
  },
  {
   "cell_type": "code",
   "execution_count": 9,
   "metadata": {},
   "outputs": [
    {
     "data": {
      "text/plain": [
       "<matplotlib.image.AxesImage at 0x7f01ab1f0940>"
      ]
     },
     "execution_count": 9,
     "metadata": {},
     "output_type": "execute_result"
    },
    {
     "data": {
      "image/png": "[encoded data removed]",
      "text/plain": [
       "<Figure size 432x288 with 1 Axes>"
      ]
     },
     "metadata": {
      "needs_background": "light"
     },
     "output_type": "display_data"
    }
   ],
   "source": [
    "plt.imshow(horizontal_lines_img)"
   ]
  },
  {
   "cell_type": "code",
   "execution_count": 10,
   "metadata": {},
   "outputs": [
    {
     "data": {
      "text/plain": [
       "True"
      ]
     },
     "execution_count": 10,
     "metadata": {},
     "output_type": "execute_result"
    }
   ],
   "source": [
    "# Weighting parameters, this will decide the quantity of an image to be added to make a new image.\n",
    "alpha = 0.5\n",
    "beta = 1.0 - alpha\n",
    "\n",
    "# This function helps to add two image with specific weight parameter to get a third image as summation of two image.\n",
    "img_final_bin = cv2.addWeighted(verticle_lines_img, alpha, horizontal_lines_img, beta, 0.0)\n",
    "# img_final_bin = cv2.erode(~img_final_bin, kernel, iterations=1)\n",
    "(thresh, img_final_bin) = cv2.threshold(img_final_bin,255,255, cv2.THRESH_BINARY | cv2.THRESH_OTSU)\n",
    "cv2.imwrite('data/img_final_bin.jpg',img_final_bin)"
   ]
  },
  {
   "cell_type": "code",
   "execution_count": 11,
   "metadata": {},
   "outputs": [
    {
     "data": {
      "text/plain": [
       "<matplotlib.image.AxesImage at 0x7f01ab1c9ac8>"
      ]
     },
     "execution_count": 11,
     "metadata": {},
     "output_type": "execute_result"
    },
    {
     "data": {
      "image/png": "[encoded data removed]",
      "text/plain": [
       "<Figure size 432x288 with 1 Axes>"
      ]
     },
     "metadata": {
      "needs_background": "light"
     },
     "output_type": "display_data"
    }
   ],
   "source": [
    "plt.imshow(img_final_bin)"
   ]
  },
  {
   "cell_type": "code",
   "execution_count": 12,
   "metadata": {},
   "outputs": [],
   "source": [
    "def sort_contours(cnts, method='left-to-right'):\n",
    "\t# initialize the reverse flag and sort index\n",
    "\treverse = False\n",
    "\ti = 0\n",
    " \n",
    "\t# handle if we need to sort in reverse\n",
    "\tif method == 'right-to-left' or method == 'bottom-to-top':\n",
    "\t\treverse = True\n",
    " \n",
    "\t# handle if we are sorting against the y-coordinate rather than\n",
    "\t# the x-coordinate of the bounding box\n",
    "\tif method == 'top-to-bottom' or method == 'bottom-to-top':\n",
    "\t\ti = 1\n",
    " \n",
    "\t# construct the list of bounding boxes and sort them from top to\n",
    "\t# bottom\n",
    "\tboundingBoxes = [cv2.boundingRect(c) for c in cnts]\n",
    "\t(cnts, boundingBoxes) = zip(*sorted(zip(cnts, boundingBoxes),\n",
    "\t\tkey=lambda b:b[1][i], reverse=reverse))\n",
    " \n",
    "\t# return the list of sorted contours and bounding boxes\n",
    "\treturn (cnts, boundingBoxes)"
   ]
  },
  {
   "cell_type": "code",
   "execution_count": 13,
   "metadata": {},
   "outputs": [],
   "source": [
    "# Find contours for image, which will detect all the boxes\n",
    "contours, hierarchy = cv2.findContours(img_final_bin, cv2.RETR_EXTERNAL, cv2.CHAIN_APPROX_SIMPLE)\n",
    "\n",
    "# Sort all the contours by top to bottom.\n",
    "# (contours, boundingBoxes) = sort_contours(contours, method='top-to-bottom')\n",
    "contours = sorted(contours, key=lambda ctr: cv2.boundingRect(ctr)[0] + cv2.boundingRect(ctr)[1] * img_final_bin.shape[1] )"
   ]
  },
  {
   "cell_type": "code",
   "execution_count": 14,
   "metadata": {},
   "outputs": [],
   "source": [
    "### this is currently unecessary\n",
    "\n",
    "# # process bounding boxes\n",
    "# # if box is very close to another box, take the smaller one\n",
    "# # do by center: x + w/2, y + h/2\n",
    "# centres = []\n",
    "# for c in contours:\n",
    "#     # Returns the location and width,height for every contour\n",
    "#     x, y, w, h = cv2.boundingRect(c)\n",
    "#     centre = (x + w/2, y + h/2)\n",
    "#     centres.append((centre, c))\n",
    "# \n",
    "# new_contours = []\n",
    "# for c in centres:\n",
    "#     for c_comp in centres:\n",
    "#         if c[0] == c_comp[0]:\n",
    "#             continue\n",
    "#             \n",
    "#         x_diff = c[0][0] / c_comp[0][0]\n",
    "#         y_diff = c[0][1] / c_comp[0][1]\n",
    "#         \n",
    "#         if x_diff < 5 and y_diff < 5:\n",
    "#             x, y, w, h = cv2.boundingRect(c[1])\n",
    "#             x_comp, y_comp, w_comp, h_comp = cv2.boundingRect(c_comp[1])\n",
    "#             \n",
    "#             c_size = w * h\n",
    "#             c_comp_size = w_comp * h_comp\n",
    "#             \n",
    "#             if c_size > c_comp_size:\n",
    "#                 new_contours.append(c_comp[1])\n",
    "#                 centres.remove(c)\n",
    "#             else:\n",
    "#                 new_contours.append(c[1])\n",
    "#                 centres.remove(c_comp)"
   ]
  },
  {
   "cell_type": "code",
   "execution_count": 49,
   "metadata": {
    "scrolled": true
   },
   "outputs": [
    {
     "data": {
      "text/plain": [
       "True"
      ]
     },
     "execution_count": 49,
     "metadata": {},
     "output_type": "execute_result"
    }
   ],
   "source": [
    "cropped_dir_path = r'data/cropped/main_cropped/'\n",
    "cropped_row_path = r'data/cropped/row_cropped/'\n",
    "cropped_col_path = r'data/cropped/col_cropped/'\n",
    "\n",
    "r_ind, c_ind = 0, 0\n",
    "scale = 0.80\n",
    "img = cv2.imread(path)\n",
    "box_contours = []\n",
    "\n",
    "for i, c in enumerate(contours):\n",
    "    # Returns the top left vertex coords and width,height for every contour\n",
    "    # x measured from left, y measured from top\n",
    "    box_contours.append(c)\n",
    "    x, y, w, h = cv2.boundingRect(c)\n",
    "    centre = (x + w/2, y + h/2)\n",
    "    \n",
    "    if (20 < w < 50 and 20 < h < 50):        \n",
    "        # apply scaling\n",
    "        crop_w, crop_h = int(w * scale), int(h * scale)\n",
    "        crop_x, crop_y = int(centre[0] - crop_w//2), int(centre[1] - crop_h//2)\n",
    "        \n",
    "        new_img = img[crop_y:crop_y+crop_h, crop_x:crop_x+crop_w]\n",
    "        cv2.imwrite(cropped_dir_path+str(i) + '.png', new_img)\n",
    "        cv2.rectangle(img,(crop_x,crop_y),(crop_x+crop_w,crop_y+crop_h),(255,0,0),1)\n",
    "        \n",
    "        if (i + 1) % 5 != 0:\n",
    "            x_right = int(x + w * 1.1)\n",
    "            w_right = int(w * 0.7)\n",
    "            new_img = img[y:y+h, x_right:x_right+w_right]\n",
    "\n",
    "            cv2.imwrite(cropped_row_path+str(r_ind) + '.png', new_img)\n",
    "            r_ind += 1\n",
    "            cv2.rectangle(img,(x_right,y),(x_right+w_right,y+h),(255,0,0),1)\n",
    "            \n",
    "        if i < 20:\n",
    "            y_below = int(y + h * 1.1)\n",
    "            h_below = int(h * 0.7)\n",
    "            new_img = img[y_below:y_below+h_below, x:x+w]\n",
    "            \n",
    "            cv2.imwrite(cropped_col_path+str(c_ind) + '.png', new_img)\n",
    "            c_ind += 1\n",
    "            cv2.rectangle(img,(x,y_below),(x+w,y_below+h_below),(255,0,0),1)\n",
    "    \n",
    "cv2.imwrite('data/img_with_boxes.png', img)"
   ]
  },
  {
   "cell_type": "code",
   "execution_count": 50,
   "metadata": {},
   "outputs": [
    {
     "data": {
      "text/plain": [
       "array([[[ 6,  2]],\n",
       "\n",
       "       [[ 5,  3]],\n",
       "\n",
       "       [[ 5, 34]],\n",
       "\n",
       "       [[ 6, 35]],\n",
       "\n",
       "       [[37, 35]],\n",
       "\n",
       "       [[38, 34]],\n",
       "\n",
       "       [[38,  3]],\n",
       "\n",
       "       [[37,  2]]], dtype=int32)"
      ]
     },
     "execution_count": 50,
     "metadata": {},
     "output_type": "execute_result"
    }
   ],
   "source": [
    "contours[0]"
   ]
  },
  {
   "cell_type": "code",
   "execution_count": 51,
   "metadata": {},
   "outputs": [
    {
     "data": {
      "text/plain": [
       "<matplotlib.image.AxesImage at 0x7f01a3f0a240>"
      ]
     },
     "execution_count": 51,
     "metadata": {},
     "output_type": "execute_result"
    },
    {
     "data": {
      "image/png": "[encoded data removed]",
      "text/plain": [
       "<Figure size 432x288 with 1 Axes>"
      ]
     },
     "metadata": {
      "needs_background": "light"
     },
     "output_type": "display_data"
    }
   ],
   "source": [
    "plt.imshow(img)"
   ]
  },
  {
   "cell_type": "code",
   "execution_count": 52,
   "metadata": {},
   "outputs": [],
   "source": [
    "from ocr import scan_images, ocr_run"
   ]
  },
  {
   "cell_type": "code",
   "execution_count": 118,
   "metadata": {},
   "outputs": [
    {
     "data": {
      "text/plain": [
       "4"
      ]
     },
     "execution_count": 118,
     "metadata": {},
     "output_type": "execute_result"
    }
   ],
   "source": [
    "16 // 4"
   ]
  },
  {
   "cell_type": "code",
   "execution_count": 130,
   "metadata": {},
   "outputs": [],
   "source": [
    "puzzle_size, start_numbers, inequals = scan_images('data/cropped/')"
   ]
  },
  {
   "cell_type": "code",
   "execution_count": 131,
   "metadata": {},
   "outputs": [
    {
     "data": {
      "text/plain": [
       "[((1, 1), (2, 1)),\n",
       " ((3, 1), (4, 1)),\n",
       " ((0, 0), (1, 0)),\n",
       " ((1, 2), (2, 2)),\n",
       " ((2, 0), (3, 0)),\n",
       " ((1, 4), (2, 4)),\n",
       " ((4, 1), (4, 2)),\n",
       " ((4, 4), (4, 3)),\n",
       " ((1, 2), (1, 3)),\n",
       " ((2, 3), (2, 4)),\n",
       " ((3, 1), (3, 0)),\n",
       " ((3, 3), (3, 4)),\n",
       " ((2, 3), (2, 2))]"
      ]
     },
     "execution_count": 131,
     "metadata": {},
     "output_type": "execute_result"
    }
   ],
   "source": [
    "inequals"
   ]
  },
  {
   "cell_type": "code",
   "execution_count": 132,
   "metadata": {},
   "outputs": [
    {
     "data": {
      "text/plain": [
       "False"
      ]
     },
     "execution_count": 132,
     "metadata": {},
     "output_type": "execute_result"
    }
   ],
   "source": [
    "inequals == [\n",
    "        ((0, 0), (1, 0)),\n",
    "        ((1, 2), (1, 3)),\n",
    "        ((1, 1), (2, 1)),\n",
    "        ((1, 2), (2, 2)),\n",
    "        ((1, 4), (2, 4)),\n",
    "        ((2, 3), (2, 2)),\n",
    "        ((2, 3), (2, 4)),\n",
    "        ((2, 0), (3, 0)),\n",
    "        ((3, 1), (3, 0)),\n",
    "        ((3, 3), (3, 4)),\n",
    "        ((3, 1), (4, 1)),\n",
    "        ((4, 1), (4, 2)),\n",
    "        ((4, 4), (4, 3))\n",
    "        ]"
   ]
  },
  {
   "cell_type": "code",
   "execution_count": 93,
   "metadata": {},
   "outputs": [
    {
     "data": {
      "text/plain": [
       "{17: 'left_lower',\n",
       " 19: 'right_lower',\n",
       " 6: 'left_lower',\n",
       " 11: 'left_lower',\n",
       " 12: 'right_lower',\n",
       " 15: 'left_lower',\n",
       " 10: 'right_lower'}"
      ]
     },
     "execution_count": 93,
     "metadata": {},
     "output_type": "execute_result"
    }
   ],
   "source": [
    "row_inequals"
   ]
  },
  {
   "cell_type": "code",
   "execution_count": 58,
   "metadata": {},
   "outputs": [
    {
     "data": {
      "text/plain": [
       "{6: 'top_lower',\n",
       " 16: 'top_lower',\n",
       " 0: 'top_lower',\n",
       " 7: 'top_lower',\n",
       " 10: 'top_lower',\n",
       " 9: 'top_lower'}"
      ]
     },
     "execution_count": 58,
     "metadata": {},
     "output_type": "execute_result"
    }
   ],
   "source": [
    "col_inequals"
   ]
  },
  {
   "cell_type": "code",
   "execution_count": 91,
   "metadata": {},
   "outputs": [],
   "source": [
    "def dim_transform(coord, puzzle_size=5):\n",
    "    \"\"\"Transform a 1D grid coordinate into a 2D tuple, default 5x5 grid\"\"\"\n",
    "    return coord // puzzle_size, coord % puzzle_size\n"
   ]
  },
  {
   "cell_type": "code",
   "execution_count": 96,
   "metadata": {},
   "outputs": [
    {
     "data": {
      "text/plain": [
       "1"
      ]
     },
     "execution_count": 96,
     "metadata": {},
     "output_type": "execute_result"
    }
   ],
   "source": [
    "5 // 5"
   ]
  },
  {
   "cell_type": "code",
   "execution_count": 103,
   "metadata": {},
   "outputs": [],
   "source": [
    "def convert_inequals(row_inequals, col_inequals):\n",
    "    inequals = []\n",
    "    \n",
    "    for k, v in col_inequals.items():\n",
    "        above = dim_transform(k) \n",
    "        below = dim_transform(k + 5)\n",
    "\n",
    "        if v == 'top_lower':\n",
    "            inequals.append((above, below))\n",
    "        elif v == 'bottom_lower':\n",
    "            inequals.append((below, above))\n",
    "            \n",
    "    for k, v in row_inequals.items():\n",
    "        adjust = k // 5\n",
    "        left = dim_transform(k + adjust)\n",
    "        right = dim_transform(k + adjust + 1)\n",
    "        \n",
    "        if v == 'left_lower':\n",
    "            inequals.append((left, right))\n",
    "        elif v == 'right_lower':\n",
    "            inequals.append((right, left))\n",
    "            \n",
    "    return inequals\n",
    "    "
   ]
  },
  {
   "cell_type": "code",
   "execution_count": 104,
   "metadata": {},
   "outputs": [
    {
     "data": {
      "text/plain": [
       "[((1, 1), (2, 1)),\n",
       " ((3, 1), (4, 1)),\n",
       " ((0, 0), (1, 0)),\n",
       " ((1, 2), (2, 2)),\n",
       " ((2, 0), (3, 0)),\n",
       " ((1, 4), (2, 4)),\n",
       " ((4, 0), (4, 1)),\n",
       " ((4, 3), (4, 2)),\n",
       " ((1, 2), (1, 3)),\n",
       " ((2, 3), (2, 4)),\n",
       " ((3, 0), (2, 4)),\n",
       " ((3, 3), (3, 4)),\n",
       " ((2, 3), (2, 2))]"
      ]
     },
     "execution_count": 104,
     "metadata": {},
     "output_type": "execute_result"
    }
   ],
   "source": [
    "convert_inequals(row_inequals, col_inequals)"
   ]
  },
  {
   "cell_type": "code",
   "execution_count": 92,
   "metadata": {},
   "outputs": [
    {
     "name": "stdout",
     "output_type": "stream",
     "text": [
      "(6, 'top_lower') ((1, 1), (2, 1))\n",
      "(16, 'top_lower') ((3, 1), (4, 1))\n",
      "(0, 'top_lower') ((0, 0), (1, 0))\n",
      "(7, 'top_lower') ((1, 2), (2, 2))\n",
      "(10, 'top_lower') ((2, 0), (3, 0))\n",
      "(9, 'top_lower') ((1, 4), (2, 4))\n"
     ]
    }
   ],
   "source": [
    "for k, v in col_inequals.items():\n",
    "    above = dim_transform(k) \n",
    "    below = dim_transform(k + 5)\n",
    "    \n",
    "    if v == 'top_lower':\n",
    "        print((k,v), (above, below))\n",
    "    elif v == 'bottom_lower':\n",
    "        print((k,v), (below, above))"
   ]
  },
  {
   "cell_type": "code",
   "execution_count": 88,
   "metadata": {},
   "outputs": [
    {
     "data": {
      "text/plain": [
       "2"
      ]
     },
     "execution_count": 88,
     "metadata": {},
     "output_type": "execute_result"
    }
   ],
   "source": [
    "(12) // 5"
   ]
  },
  {
   "cell_type": "code",
   "execution_count": 89,
   "metadata": {},
   "outputs": [
    {
     "data": {
      "text/plain": [
       "2"
      ]
     },
     "execution_count": 89,
     "metadata": {},
     "output_type": "execute_result"
    }
   ],
   "source": [
    "(12) % 5"
   ]
  },
  {
   "cell_type": "code",
   "execution_count": 33,
   "metadata": {},
   "outputs": [],
   "source": [
    "test_img = cv2.imread('data/col_cropped/0.png')"
   ]
  },
  {
   "cell_type": "code",
   "execution_count": 34,
   "metadata": {},
   "outputs": [
    {
     "data": {
      "text/plain": [
       "<matplotlib.image.AxesImage at 0x7f01a409c6a0>"
      ]
     },
     "execution_count": 34,
     "metadata": {},
     "output_type": "execute_result"
    },
    {
     "data": {
      "image/png": "[encoded data removed]",
      "text/plain": [
       "<Figure size 432x288 with 1 Axes>"
      ]
     },
     "metadata": {
      "needs_background": "light"
     },
     "output_type": "display_data"
    }
   ],
   "source": [
    "plt.imshow(test_img)"
   ]
  },
  {
   "cell_type": "code",
   "execution_count": 37,
   "metadata": {},
   "outputs": [],
   "source": [
    "rotated_image = np.rot90(test_img, axes=(1,0))"
   ]
  },
  {
   "cell_type": "code",
   "execution_count": 38,
   "metadata": {},
   "outputs": [
    {
     "data": {
      "text/plain": [
       "<matplotlib.image.AxesImage at 0x7f01a3fb4208>"
      ]
     },
     "execution_count": 38,
     "metadata": {},
     "output_type": "execute_result"
    },
    {
     "data": {
      "image/png": "[encoded data removed]",
      "text/plain": [
       "<Figure size 432x288 with 1 Axes>"
      ]
     },
     "metadata": {
      "needs_background": "light"
     },
     "output_type": "display_data"
    }
   ],
   "source": [
    "plt.imshow(rotated_image)"
   ]
  },
  {
   "cell_type": "code",
   "execution_count": 278,
   "metadata": {},
   "outputs": [],
   "source": [
    "def dim_transform(coord, puzzle_size=5):\n",
    "    \"\"\"Transform a 1D grid coordinate into a 2D tuple, default 5x5 grid\"\"\"\n",
    "    return coord // puzzle_size, coord % puzzle_size\n"
   ]
  },
  {
   "cell_type": "code",
   "execution_count": 279,
   "metadata": {},
   "outputs": [
    {
     "data": {
      "text/plain": [
       "(0, 0)"
      ]
     },
     "execution_count": 279,
     "metadata": {},
     "output_type": "execute_result"
    }
   ],
   "source": [
    "dim_transform(0)"
   ]
  },
  {
   "cell_type": "code",
   "execution_count": 303,
   "metadata": {},
   "outputs": [
    {
     "data": {
      "text/plain": [
       "0"
      ]
     },
     "execution_count": 303,
     "metadata": {},
     "output_type": "execute_result"
    }
   ],
   "source": [
    "(9 + 1) % 5"
   ]
  },
  {
   "cell_type": "code",
   "execution_count": 304,
   "metadata": {},
   "outputs": [],
   "source": [
    "import pickle"
   ]
  },
  {
   "cell_type": "code",
   "execution_count": 305,
   "metadata": {},
   "outputs": [],
   "source": [
    "with open('data/contours.pkl', 'rb') as handle:\n",
    "    b = pickle.load(handle)"
   ]
  },
  {
   "cell_type": "code",
   "execution_count": 308,
   "metadata": {},
   "outputs": [],
   "source": [
    "import cv2"
   ]
  },
  {
   "cell_type": "code",
   "execution_count": 311,
   "metadata": {},
   "outputs": [
    {
     "data": {
      "text/plain": [
       "((262, 76, 34, 33), (57, 90, 10, 8))"
      ]
     },
     "execution_count": 311,
     "metadata": {},
     "output_type": "execute_result"
    }
   ],
   "source": [
    "cv2.boundingRect(b[16]), cv2.boundingRect(b[18])"
   ]
  }
 ],
 "metadata": {
  "kernelspec": {
   "display_name": "Python 3",
   "language": "python",
   "name": "python3"
  },
  "language_info": {
   "codemirror_mode": {
    "name": "ipython",
    "version": 3
   },
   "file_extension": ".py",
   "mimetype": "text/x-python",
   "name": "python",
   "nbconvert_exporter": "python",
   "pygments_lexer": "ipython3",
   "version": "3.7.2"
  }
 },
 "nbformat": 4,
 "nbformat_minor": 4
}
