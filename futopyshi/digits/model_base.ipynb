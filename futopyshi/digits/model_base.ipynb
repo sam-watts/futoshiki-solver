{
 "cells": [
  {
   "cell_type": "code",
   "execution_count": 1,
   "metadata": {},
   "outputs": [],
   "source": [
    "classes = ['0', '1', '2', '3', '4', '5', 'lt', 'gt']"
   ]
  },
  {
   "cell_type": "code",
   "execution_count": 2,
   "metadata": {},
   "outputs": [],
   "source": [
    "from __future__ import print_function\n",
    "import os\n",
    "from shutil import copy2, rmtree\n",
    "from typing import Callable, List\n",
    "import numpy as np\n",
    "\n",
    "import cv2\n",
    "import torch\n",
    "import torch.nn as nn\n",
    "import torch.nn.functional as F\n",
    "import torch.optim as optim\n",
    "from torchvision import datasets, transforms\n",
    "from torch.optim.lr_scheduler import StepLR\n",
    "from torch.utils.data import Dataset\n",
    "from sklearn.preprocessing import LabelEncoder"
   ]
  },
  {
   "cell_type": "code",
   "execution_count": 3,
   "metadata": {},
   "outputs": [],
   "source": [
    "import matplotlib.pyplot as plt"
   ]
  },
  {
   "cell_type": "code",
   "execution_count": 4,
   "metadata": {},
   "outputs": [],
   "source": [
    "os.sys.path.append('..')\n",
    "from utils import image_transpose_exif"
   ]
  },
  {
   "cell_type": "code",
   "execution_count": 133,
   "metadata": {},
   "outputs": [],
   "source": [
    "class DigitsDataset(Dataset):\n",
    "    \"\"\"Custom digits dataset object for pytorch\"\"\"\n",
    "\n",
    "    def __init__(self, \n",
    "                 img_dir_path: str, \n",
    "                 resize=None, \n",
    "                 transform: Callable=None, \n",
    "                 augmentation: Callable=None, \n",
    "                 copies: int=None,\n",
    "                 model: bool=True):\n",
    "        \"\"\"\n",
    "        Args:\n",
    "            img_dir_path: Path to the csv file with annotations.\n",
    "            transform: Optional transform to be applied\n",
    "                on a sample.\n",
    "        \"\"\"\n",
    "        self.img_dir_path = img_dir_path\n",
    "        self.resize = resize\n",
    "        self.transform = transform\n",
    "        self.augmentation = augmentation\n",
    "        self.copies = copies\n",
    "        self.paths = self._get_image_paths()\n",
    "        self.label_encoder = self._get_label_encoder()\n",
    "        self.model = model\n",
    "    \n",
    "    def _get_image_paths(self):\n",
    "        \"\"\"Get paths of images in a given directory.\"\"\"\n",
    "        paths = os.listdir(self.img_dir_path)\n",
    "        return [x for x in paths if x[-3:] in ['png', 'jpg']]\n",
    "        \n",
    "        \n",
    "    def _get_label_encoder(self):\n",
    "        \"\"\"Get integer encoder for class labels\"\"\"\n",
    "        all_labels = list(set([x.split('.')[0].split('_')[0] for x in self.paths]))\n",
    "        le = LabelEncoder()\n",
    "        le.fit(all_labels)\n",
    "        return le\n",
    "        \n",
    "    def __len__(self):\n",
    "        return len(self.paths)\n",
    "        \n",
    "    def __getitem__(self, idx):\n",
    "        if torch.is_tensor(idx):\n",
    "            idx = idx.tolist()\n",
    "            \n",
    "        if self.copies:\n",
    "            idx = idx % self.grid_frame.shape[0]\n",
    "\n",
    "        img_name = os.path.join(self.img_dir_path, self.paths[idx])\n",
    "        \n",
    "        image = cv2.imread(img_name, cv2.IMREAD_GRAYSCALE)\n",
    "        image = image_transpose_exif(image)\n",
    "        \n",
    "        if self.resize is not None:\n",
    "            image = cv2.resize(image, (28, 28))\n",
    "            # mask = mask.reshape((*mask.shape, 1))\n",
    "        \n",
    "        if self.model:\n",
    "            image = image / 255\n",
    "            image = torch.from_numpy(image)\n",
    "            image = image.to(torch.double)\n",
    "            image = image.unsqueeze(0)\n",
    "        # image = cv2.cvtColor(image, cv2.COLOR_BGR2RGB)\n",
    "        \n",
    "        label = self.paths[idx].split('.')[0].split('_')[0]\n",
    "        label = self.label_encoder.transform([label])[0]\n",
    "        \n",
    "        if self.augmentation:\n",
    "            pass\n",
    "            # sample = self.augmentation(image=image, mask=mask)\n",
    "            # image, mask = sample['image'], sample['mask']\n",
    "            \n",
    "        if self.transform:\n",
    "            image = self.transform(image)\n",
    "        \n",
    "        return image, label"
   ]
  },
  {
   "cell_type": "code",
   "execution_count": 134,
   "metadata": {},
   "outputs": [],
   "source": [
    "dig = DigitsDataset('../data/digit_operator_data/train', resize=True, model=True)"
   ]
  },
  {
   "cell_type": "code",
   "execution_count": 135,
   "metadata": {},
   "outputs": [],
   "source": [
    "dat = dig[-8]"
   ]
  },
  {
   "cell_type": "code",
   "execution_count": 109,
   "metadata": {
    "collapsed": true,
    "jupyter": {
     "outputs_hidden": true
    }
   },
   "outputs": [
    {
     "ename": "TypeError",
     "evalue": "Invalid dimensions for image data",
     "output_type": "error",
     "traceback": [
      "\u001b[1;31m----------------------------------------------------------------\u001b[0m",
      "\u001b[1;31mTypeError\u001b[0m                      Traceback (most recent call last)",
      "\u001b[1;32m<ipython-input-109-61bfc586e695>\u001b[0m in \u001b[0;36m<module>\u001b[1;34m\u001b[0m\n\u001b[0;32m      1\u001b[0m \u001b[0mdat\u001b[0m \u001b[1;33m=\u001b[0m \u001b[0mdig\u001b[0m\u001b[1;33m[\u001b[0m\u001b[1;33m-\u001b[0m\u001b[1;36m8\u001b[0m\u001b[1;33m]\u001b[0m\u001b[1;33m\u001b[0m\u001b[1;33m\u001b[0m\u001b[0m\n\u001b[1;32m----> 2\u001b[1;33m \u001b[0mplt\u001b[0m\u001b[1;33m.\u001b[0m\u001b[0mimshow\u001b[0m\u001b[1;33m(\u001b[0m\u001b[0mdat\u001b[0m\u001b[1;33m[\u001b[0m\u001b[1;36m0\u001b[0m\u001b[1;33m]\u001b[0m\u001b[1;33m)\u001b[0m\u001b[1;33m\u001b[0m\u001b[1;33m\u001b[0m\u001b[0m\n\u001b[0m\u001b[0;32m      3\u001b[0m \u001b[0mprint\u001b[0m\u001b[1;33m(\u001b[0m\u001b[0mdat\u001b[0m\u001b[1;33m[\u001b[0m\u001b[1;36m1\u001b[0m\u001b[1;33m]\u001b[0m\u001b[1;33m)\u001b[0m\u001b[1;33m\u001b[0m\u001b[1;33m\u001b[0m\u001b[0m\n",
      "\u001b[1;32mC:\\ProgramData\\Anaconda3\\lib\\site-packages\\matplotlib\\pyplot.py\u001b[0m in \u001b[0;36mimshow\u001b[1;34m(X, cmap, norm, aspect, interpolation, alpha, vmin, vmax, origin, extent, shape, filternorm, filterrad, imlim, resample, url, data, **kwargs)\u001b[0m\n\u001b[0;32m   2699\u001b[0m         \u001b[0mfilternorm\u001b[0m\u001b[1;33m=\u001b[0m\u001b[0mfilternorm\u001b[0m\u001b[1;33m,\u001b[0m \u001b[0mfilterrad\u001b[0m\u001b[1;33m=\u001b[0m\u001b[0mfilterrad\u001b[0m\u001b[1;33m,\u001b[0m \u001b[0mimlim\u001b[0m\u001b[1;33m=\u001b[0m\u001b[0mimlim\u001b[0m\u001b[1;33m,\u001b[0m\u001b[1;33m\u001b[0m\u001b[1;33m\u001b[0m\u001b[0m\n\u001b[0;32m   2700\u001b[0m         resample=resample, url=url, **({\"data\": data} if data is not\n\u001b[1;32m-> 2701\u001b[1;33m         None else {}), **kwargs)\n\u001b[0m\u001b[0;32m   2702\u001b[0m     \u001b[0msci\u001b[0m\u001b[1;33m(\u001b[0m\u001b[0m__ret\u001b[0m\u001b[1;33m)\u001b[0m\u001b[1;33m\u001b[0m\u001b[1;33m\u001b[0m\u001b[0m\n\u001b[0;32m   2703\u001b[0m     \u001b[1;32mreturn\u001b[0m \u001b[0m__ret\u001b[0m\u001b[1;33m\u001b[0m\u001b[1;33m\u001b[0m\u001b[0m\n",
      "\u001b[1;32mC:\\ProgramData\\Anaconda3\\lib\\site-packages\\matplotlib\\__init__.py\u001b[0m in \u001b[0;36minner\u001b[1;34m(ax, data, *args, **kwargs)\u001b[0m\n\u001b[0;32m   1808\u001b[0m                         \u001b[1;34m\"the Matplotlib list!)\"\u001b[0m \u001b[1;33m%\u001b[0m \u001b[1;33m(\u001b[0m\u001b[0mlabel_namer\u001b[0m\u001b[1;33m,\u001b[0m \u001b[0mfunc\u001b[0m\u001b[1;33m.\u001b[0m\u001b[0m__name__\u001b[0m\u001b[1;33m)\u001b[0m\u001b[1;33m,\u001b[0m\u001b[1;33m\u001b[0m\u001b[1;33m\u001b[0m\u001b[0m\n\u001b[0;32m   1809\u001b[0m                         RuntimeWarning, stacklevel=2)\n\u001b[1;32m-> 1810\u001b[1;33m             \u001b[1;32mreturn\u001b[0m \u001b[0mfunc\u001b[0m\u001b[1;33m(\u001b[0m\u001b[0max\u001b[0m\u001b[1;33m,\u001b[0m \u001b[1;33m*\u001b[0m\u001b[0margs\u001b[0m\u001b[1;33m,\u001b[0m \u001b[1;33m**\u001b[0m\u001b[0mkwargs\u001b[0m\u001b[1;33m)\u001b[0m\u001b[1;33m\u001b[0m\u001b[1;33m\u001b[0m\u001b[0m\n\u001b[0m\u001b[0;32m   1811\u001b[0m \u001b[1;33m\u001b[0m\u001b[0m\n\u001b[0;32m   1812\u001b[0m         inner.__doc__ = _add_data_doc(inner.__doc__,\n",
      "\u001b[1;32mC:\\ProgramData\\Anaconda3\\lib\\site-packages\\matplotlib\\axes\\_axes.py\u001b[0m in \u001b[0;36mimshow\u001b[1;34m(self, X, cmap, norm, aspect, interpolation, alpha, vmin, vmax, origin, extent, shape, filternorm, filterrad, imlim, resample, url, **kwargs)\u001b[0m\n\u001b[0;32m   5492\u001b[0m                               resample=resample, **kwargs)\n\u001b[0;32m   5493\u001b[0m \u001b[1;33m\u001b[0m\u001b[0m\n\u001b[1;32m-> 5494\u001b[1;33m         \u001b[0mim\u001b[0m\u001b[1;33m.\u001b[0m\u001b[0mset_data\u001b[0m\u001b[1;33m(\u001b[0m\u001b[0mX\u001b[0m\u001b[1;33m)\u001b[0m\u001b[1;33m\u001b[0m\u001b[1;33m\u001b[0m\u001b[0m\n\u001b[0m\u001b[0;32m   5495\u001b[0m         \u001b[0mim\u001b[0m\u001b[1;33m.\u001b[0m\u001b[0mset_alpha\u001b[0m\u001b[1;33m(\u001b[0m\u001b[0malpha\u001b[0m\u001b[1;33m)\u001b[0m\u001b[1;33m\u001b[0m\u001b[1;33m\u001b[0m\u001b[0m\n\u001b[0;32m   5496\u001b[0m         \u001b[1;32mif\u001b[0m \u001b[0mim\u001b[0m\u001b[1;33m.\u001b[0m\u001b[0mget_clip_path\u001b[0m\u001b[1;33m(\u001b[0m\u001b[1;33m)\u001b[0m \u001b[1;32mis\u001b[0m \u001b[1;32mNone\u001b[0m\u001b[1;33m:\u001b[0m\u001b[1;33m\u001b[0m\u001b[1;33m\u001b[0m\u001b[0m\n",
      "\u001b[1;32mC:\\ProgramData\\Anaconda3\\lib\\site-packages\\matplotlib\\image.py\u001b[0m in \u001b[0;36mset_data\u001b[1;34m(self, A)\u001b[0m\n\u001b[0;32m    644\u001b[0m         if not (self._A.ndim == 2\n\u001b[0;32m    645\u001b[0m                 or self._A.ndim == 3 and self._A.shape[-1] in [3, 4]):\n\u001b[1;32m--> 646\u001b[1;33m             \u001b[1;32mraise\u001b[0m \u001b[0mTypeError\u001b[0m\u001b[1;33m(\u001b[0m\u001b[1;34m\"Invalid dimensions for image data\"\u001b[0m\u001b[1;33m)\u001b[0m\u001b[1;33m\u001b[0m\u001b[1;33m\u001b[0m\u001b[0m\n\u001b[0m\u001b[0;32m    647\u001b[0m \u001b[1;33m\u001b[0m\u001b[0m\n\u001b[0;32m    648\u001b[0m         \u001b[1;32mif\u001b[0m \u001b[0mself\u001b[0m\u001b[1;33m.\u001b[0m\u001b[0m_A\u001b[0m\u001b[1;33m.\u001b[0m\u001b[0mndim\u001b[0m \u001b[1;33m==\u001b[0m \u001b[1;36m3\u001b[0m\u001b[1;33m:\u001b[0m\u001b[1;33m\u001b[0m\u001b[1;33m\u001b[0m\u001b[0m\n",
      "\u001b[1;31mTypeError\u001b[0m: Invalid dimensions for image data"
     ]
    },
    {
     "data": {
      "image/png": "[encoded data removed]",
      "text/plain": [
       "<Figure size 432x288 with 1 Axes>"
      ]
     },
     "metadata": {
      "needs_background": "light"
     },
     "output_type": "display_data"
    }
   ],
   "source": [
    "plt.imshow(dat[0])\n",
    "print(dat[1])"
   ]
  },
  {
   "cell_type": "code",
   "execution_count": 136,
   "metadata": {},
   "outputs": [
    {
     "data": {
      "text/plain": [
       "2"
      ]
     },
     "execution_count": 136,
     "metadata": {},
     "output_type": "execute_result"
    }
   ],
   "source": [
    "dat[1]"
   ]
  },
  {
   "cell_type": "code",
   "execution_count": 18,
   "metadata": {},
   "outputs": [],
   "source": [
    "class Net(nn.Module):\n",
    "    def __init__(self, nclasses):\n",
    "        super(Net, self).__init__()\n",
    "        self.conv1 = nn.Conv2d(1, 32, 3, 1)\n",
    "        self.conv2 = nn.Conv2d(32, 64, 3, 1)\n",
    "        self.dropout1 = nn.Dropout2d(0.25)\n",
    "        self.dropout2 = nn.Dropout2d(0.5)\n",
    "        self.fc1 = nn.Linear(9216, 128)\n",
    "        self.fc2 = nn.Linear(128, nclasses)\n",
    "\n",
    "    def forward(self, x):\n",
    "        x = self.conv1(x)\n",
    "        x = F.relu(x)\n",
    "        x = self.conv2(x)\n",
    "        x = F.relu(x)\n",
    "        x = F.max_pool2d(x, 2)\n",
    "        x = self.dropout1(x)\n",
    "        x = torch.flatten(x, 1)\n",
    "        x = self.fc1(x)\n",
    "        x = F.relu(x)\n",
    "        x = self.dropout2(x)\n",
    "        x = self.fc2(x)\n",
    "        output = F.log_softmax(x, dim=1)\n",
    "        return output"
   ]
  },
  {
   "cell_type": "code",
   "execution_count": 137,
   "metadata": {},
   "outputs": [],
   "source": [
    "def train(model, device, train_loader, optimizer, epoch, log_interval, dry_run):\n",
    "    model.train()\n",
    "    for batch_idx, (data, target) in enumerate(train_loader):\n",
    "        \n",
    "        data, target = data.to(device), target.to(device)\n",
    "        optimizer.zero_grad()\n",
    "        output = model(data)\n",
    "        # import pdb; pdb.set_trace()\n",
    "        loss = F.nll_loss(output, target)\n",
    "        loss.backward()\n",
    "        optimizer.step()\n",
    "        if batch_idx % log_interval == 0:\n",
    "            print('Train Epoch: {} [{}/{} ({:.0f}%)]\\tLoss: {:.6f}'.format(\n",
    "                epoch, batch_idx * len(data), len(train_loader.dataset),\n",
    "                100. * batch_idx / len(train_loader), loss.item()))\n",
    "            if dry_run:\n",
    "                break"
   ]
  },
  {
   "cell_type": "code",
   "execution_count": 138,
   "metadata": {},
   "outputs": [],
   "source": [
    "def test(model, device, test_loader):\n",
    "    model.eval()\n",
    "    test_loss = 0\n",
    "    correct = 0\n",
    "    with torch.no_grad():\n",
    "        for data, target in test_loader:\n",
    "            data, target = data.to(device), target.to(device)\n",
    "            output = model(data)\n",
    "            test_loss += F.nll_loss(output, target, reduction='sum').item()  # sum up batch loss\n",
    "            pred = output.argmax(dim=1, keepdim=True)  # get the index of the max log-probability\n",
    "            correct += pred.eq(target.view_as(pred)).sum().item()\n",
    "\n",
    "    test_loss /= len(test_loader.dataset)\n",
    "\n",
    "    print('\\nTest set: Average loss: {:.4f}, Accuracy: {}/{} ({:.0f}%)\\n'.format(\n",
    "        test_loss, correct, len(test_loader.dataset),\n",
    "        100. * correct / len(test_loader.dataset)))"
   ]
  },
  {
   "cell_type": "code",
   "execution_count": 139,
   "metadata": {},
   "outputs": [],
   "source": [
    "def split_heap(path: str, split_prop: float = 0.8, shuffle: bool = True):\n",
    "    \"\"\"Function to split the heap of digit operator data into train and test folders\"\"\"\n",
    "    \n",
    "    train_path = '../train/'\n",
    "    test_path = '../test/'\n",
    "    \n",
    "    if os.path.exists(path + train_path):\n",
    "        rmtree(path + train_path)\n",
    "        \n",
    "    if os.path.exists(path + test_path):\n",
    "        rmtree(path + test_path)\n",
    "        \n",
    "    os.mkdir(path + train_path)\n",
    "    os.mkdir(path + test_path)\n",
    "\n",
    "    paths = os.listdir(path)\n",
    "    paths = [x for x in paths if os.path.isfile(path + x)]\n",
    "    np.random.shuffle(paths)\n",
    "    \n",
    "    num_train = int((len(paths) * split_prop))\n",
    "    train = paths[:num_train]\n",
    "    test = [x for x in paths if x not in train]\n",
    "    \n",
    "    _ = [copy2(path + x, path + train_path + x) for x in train]\n",
    "    _ = [copy2(path + x, path + test_path + x) for x in test]\n",
    "    "
   ]
  },
  {
   "cell_type": "code",
   "execution_count": 140,
   "metadata": {},
   "outputs": [],
   "source": [
    "# split_heap('../data/digit_operator_data/heap/')"
   ]
  },
  {
   "cell_type": "code",
   "execution_count": 162,
   "metadata": {},
   "outputs": [],
   "source": [
    "def main(classes: List[str],\n",
    "         bs: int = 8, \n",
    "         test_bs: int = 1000, \n",
    "         epochs: int = 14, \n",
    "         lr: float = 1.0, \n",
    "         gamma: float = 0.7, \n",
    "         no_cuda: bool = False,\n",
    "         dry_run: bool = False,\n",
    "         seed: int = 1,\n",
    "         log_interval: int = 10,\n",
    "         save_model: bool = False):\n",
    "    \n",
    "    use_cuda = not no_cuda and torch.cuda.is_available()\n",
    "\n",
    "    torch.manual_seed(seed)\n",
    "\n",
    "    device = torch.device(\"cuda\" if use_cuda else \"cpu\")\n",
    "\n",
    "    kwargs = {'batch_size': bs}\n",
    "    \n",
    "    if use_cuda:\n",
    "        kwargs.update({'num_workers': 1,\n",
    "                       'pin_memory': True,\n",
    "                       'shuffle': True},\n",
    "                     )\n",
    "\n",
    "    # normalization and to_tensor handled in Dataset class \n",
    "    transform=None\n",
    "    \n",
    "    train_dataset = DigitsDataset('../data/digit_operator_data/train', resize=True, transform=transform)\n",
    "    test_dataset = DigitsDataset('../data/digit_operator_data/test', resize=True, transform=transform)\n",
    "    \n",
    "    train_loader = torch.utils.data.DataLoader(train_dataset, **kwargs)\n",
    "    test_loader = torch.utils.data.DataLoader(test_dataset, **kwargs)\n",
    "\n",
    "    model = Net(len(classes))\n",
    "    model = model.double()\n",
    "    model.to(device)\n",
    "    optimizer = optim.Adadelta(model.parameters(), lr=lr)  # TODO review optimiser\n",
    "\n",
    "    scheduler = StepLR(optimizer, step_size=1, gamma=gamma)\n",
    "    for epoch in range(1, epochs + 1):\n",
    "        train(model, device, train_loader, optimizer, epoch, log_interval, dry_run)\n",
    "        test(model, device, test_loader)\n",
    "        scheduler.step()\n",
    "\n",
    "    if save_model:\n",
    "        torch.save(model.state_dict(), \"mnist_cnn.pt\")\n",
    "        \n",
    "    return model"
   ]
  },
  {
   "cell_type": "code",
   "execution_count": 145,
   "metadata": {},
   "outputs": [],
   "source": [
    "temp_classes = ['0', '2', 'gt', 'lt']"
   ]
  },
  {
   "cell_type": "code",
   "execution_count": 146,
   "metadata": {},
   "outputs": [
    {
     "name": "stdout",
     "output_type": "stream",
     "text": [
      "Train Epoch: 1 [0/52 (0%)]\tLoss: 1.328374\n",
      "\n",
      "Test set: Average loss: 1.3319, Accuracy: 8/13 (62%)\n",
      "\n",
      "Train Epoch: 2 [0/52 (0%)]\tLoss: 1.215285\n",
      "\n",
      "Test set: Average loss: 1.1500, Accuracy: 9/13 (69%)\n",
      "\n",
      "Train Epoch: 3 [0/52 (0%)]\tLoss: 0.863215\n",
      "\n",
      "Test set: Average loss: 1.0951, Accuracy: 9/13 (69%)\n",
      "\n",
      "Train Epoch: 4 [0/52 (0%)]\tLoss: 0.721511\n",
      "\n",
      "Test set: Average loss: 1.0401, Accuracy: 9/13 (69%)\n",
      "\n",
      "Train Epoch: 5 [0/52 (0%)]\tLoss: 0.590217\n",
      "\n",
      "Test set: Average loss: 1.0367, Accuracy: 9/13 (69%)\n",
      "\n",
      "Train Epoch: 6 [0/52 (0%)]\tLoss: 0.530828\n",
      "\n",
      "Test set: Average loss: 1.0419, Accuracy: 9/13 (69%)\n",
      "\n",
      "Train Epoch: 7 [0/52 (0%)]\tLoss: 0.391948\n",
      "\n",
      "Test set: Average loss: 1.0223, Accuracy: 9/13 (69%)\n",
      "\n",
      "Train Epoch: 8 [0/52 (0%)]\tLoss: 0.270508\n",
      "\n",
      "Test set: Average loss: 1.0092, Accuracy: 9/13 (69%)\n",
      "\n",
      "Train Epoch: 9 [0/52 (0%)]\tLoss: 0.254513\n",
      "\n",
      "Test set: Average loss: 0.9984, Accuracy: 9/13 (69%)\n",
      "\n",
      "Train Epoch: 10 [0/52 (0%)]\tLoss: 0.213802\n",
      "\n",
      "Test set: Average loss: 0.9948, Accuracy: 9/13 (69%)\n",
      "\n",
      "Train Epoch: 11 [0/52 (0%)]\tLoss: 0.247034\n",
      "\n",
      "Test set: Average loss: 0.9938, Accuracy: 9/13 (69%)\n",
      "\n",
      "Train Epoch: 12 [0/52 (0%)]\tLoss: 0.321822\n",
      "\n",
      "Test set: Average loss: 0.9931, Accuracy: 9/13 (69%)\n",
      "\n",
      "Train Epoch: 13 [0/52 (0%)]\tLoss: 0.169118\n",
      "\n",
      "Test set: Average loss: 0.9931, Accuracy: 9/13 (69%)\n",
      "\n",
      "Train Epoch: 14 [0/52 (0%)]\tLoss: 0.329366\n",
      "\n",
      "Test set: Average loss: 0.9927, Accuracy: 9/13 (69%)\n",
      "\n"
     ]
    }
   ],
   "source": [
    "mod = main(temp_classes)"
   ]
  },
  {
   "cell_type": "code",
   "execution_count": 149,
   "metadata": {},
   "outputs": [],
   "source": [
    "test_dataset = DigitsDataset('../data/digit_operator_data/test', resize=True)\n",
    "test_loader = torch.utils.data.DataLoader(test_dataset, batch_size=64)"
   ]
  },
  {
   "cell_type": "code",
   "execution_count": 158,
   "metadata": {},
   "outputs": [
    {
     "data": {
      "text/plain": [
       "0"
      ]
     },
     "execution_count": 158,
     "metadata": {},
     "output_type": "execute_result"
    }
   ],
   "source": [
    "test_dataset[0][1]"
   ]
  },
  {
   "cell_type": "code",
   "execution_count": 159,
   "metadata": {},
   "outputs": [
    {
     "data": {
      "text/plain": [
       "tensor(0)"
      ]
     },
     "execution_count": 159,
     "metadata": {},
     "output_type": "execute_result"
    }
   ],
   "source": [
    "mod(test_dataset[0][0].unsqueeze(0)).argmax()"
   ]
  }
 ],
 "metadata": {
  "kernelspec": {
   "display_name": "Python 3",
   "language": "python",
   "name": "python3"
  },
  "language_info": {
   "codemirror_mode": {
    "name": "ipython",
    "version": 3
   },
   "file_extension": ".py",
   "mimetype": "text/x-python",
   "name": "python",
   "nbconvert_exporter": "python",
   "pygments_lexer": "ipython3",
   "version": "3.7.1"
  }
 },
 "nbformat": 4,
 "nbformat_minor": 4
}
