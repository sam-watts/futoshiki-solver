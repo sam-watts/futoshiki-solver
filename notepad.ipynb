{
 "cells": [
  {
   "cell_type": "code",
   "execution_count": 13,
   "metadata": {},
   "outputs": [],
   "source": [
    "import numpy as np\n",
    "from ortools.sat.python import cp_model\n",
    "import time\n",
    "\n",
    "puzzle_size = 5\n",
    "\n",
    "model = cp_model.CpModel()\n",
    "\n",
    "start_numbers = {\n",
    "    5: 4,\n",
    "    9: 2,\n",
    "    12: 4,\n",
    "    19: 4\n",
    "}\n",
    "\n",
    "start_numbers.keys()\n",
    "\n",
    "grid = np.array([model.NewIntVar(start_numbers.get(i, 1), \n",
    "                                 start_numbers.get(i, 5), \n",
    "                                 f'{i}') for i in range(puzzle_size ** 2)])\n",
    "\n",
    "grid = grid.reshape((puzzle_size, -1))\n",
    "\n",
    "grid\n",
    "\n",
    "grid.shape\n",
    "\n",
    "# need to add constraint to all rows and column -- all different\n",
    "for row in grid:\n",
    "    print(row)\n",
    "    model.AddAllDifferent(row)\n",
    "\n",
    "for column in grid.T:\n",
    "    print(column)\n",
    "    model.AddAllDifferent(column)\n",
    "    \n",
    "\n",
    "grid[0,1]\n",
    "\n",
    "Create inequality constraints  \n",
    "data format as tuples, \n",
    "* `[0]` = is on the lower side\n",
    "* `[1]` = is on the higher side\n",
    "\n",
    "# as 1D coordinates\n",
    "ineqs = [(1,0), (3,2), (4,3), (18,19), (20,21), (21,22)]\n",
    "\n",
    "# as 2D coordinates\n",
    "ineqs = [\n",
    "    ((0,1), (0,0)),\n",
    "    ((0,3), (0,2)),\n",
    "    ((0,4), (0,3)),\n",
    "    ((3,3), (3,4)),\n",
    "    ((4,0), (4,1)),\n",
    "    ((4,1), (4,2))\n",
    "    ]"
   ]
  },
  {
   "cell_type": "code",
   "execution_count": 14,
   "metadata": {},
   "outputs": [
    {
     "data": {
      "text/plain": [
       "2(1..5)"
      ]
     },
     "execution_count": 14,
     "metadata": {},
     "output_type": "execute_result"
    }
   ],
   "source": [
    "grid[ineqs[1][1]]"
   ]
  },
  {
   "cell_type": "code",
   "execution_count": 15,
   "metadata": {},
   "outputs": [],
   "source": [
    "for i in ineqs:\n",
    "    model.Add(grid[i[0]] < grid[i[1]])"
   ]
  },
  {
   "cell_type": "code",
   "execution_count": 16,
   "metadata": {},
   "outputs": [],
   "source": [
    "solver = cp_model.CpSolver()"
   ]
  },
  {
   "cell_type": "code",
   "execution_count": 17,
   "metadata": {},
   "outputs": [
    {
     "name": "stdout",
     "output_type": "stream",
     "text": [
      "[0(1..5), 1(1..5), 2(1..5), 3(1..5), 4(1..5)]\n",
      "[5(4), 6(1..5), 7(1..5), 8(1..5), 9(2)]\n",
      "[10(1..5), 11(1..5), 12(4), 13(1..5), 14(1..5)]\n",
      "[15(1..5), 16(1..5), 17(1..5), 18(1..5), 19(4)]\n",
      "[20(1..5), 21(1..5), 22(1..5), 23(1..5), 24(1..5)]\n"
     ]
    }
   ],
   "source": [
    "for row in grid:\n",
    "    print(row.tolist())"
   ]
  },
  {
   "cell_type": "code",
   "execution_count": 18,
   "metadata": {},
   "outputs": [],
   "source": [
    "class DiagramPrinter(cp_model.CpSolverSolutionCallback):\n",
    "    def __init__(self, variables, ineqs):\n",
    "        cp_model.CpSolverSolutionCallback.__init__(self)\n",
    "        self.__variables = variables\n",
    "        self.__solution_count = 0\n",
    "        self.__ineqs = ineqs\n",
    "    \n",
    "    def OnSolutionCallback(self):\n",
    "        self.__solution_count += 1\n",
    " \n",
    "        for row in self.__variables:\n",
    "            row = row.tolist()\n",
    "            vals = [self.Value(val) for val in row]\n",
    "            print(\"+---+---+---+---+---+\")\n",
    "            print('| ', end = '')\n",
    "            print(' | '.join(str(x) for x in vals), end = '')\n",
    "            print(' |')\n",
    "        \n",
    "        print(\"+---+---+---+---+---+\")\n",
    "    \n",
    "    def SolutionCount(self):\n",
    "        return self.__solution_count"
   ]
  },
  {
   "cell_type": "code",
   "execution_count": 19,
   "metadata": {},
   "outputs": [
    {
     "name": "stdout",
     "output_type": "stream",
     "text": [
      "+---+---+---+---+---+\n",
      "| 5 | 4 | 3 | 2 | 1 |\n",
      "+---+---+---+---+---+\n",
      "| 4 | 3 | 1 | 5 | 2 |\n",
      "+---+---+---+---+---+\n",
      "| 2 | 1 | 4 | 3 | 5 |\n",
      "+---+---+---+---+---+\n",
      "| 3 | 5 | 2 | 1 | 4 |\n",
      "+---+---+---+---+---+\n",
      "| 1 | 2 | 5 | 4 | 3 |\n",
      "+---+---+---+---+---+\n",
      "Time elapsed: 0.006\n",
      "Solutions found : 1\n"
     ]
    }
   ],
   "source": [
    "solution_printer = DiagramPrinter(grid, ineqs)\n",
    "start = time.time()\n",
    "status = solver.SearchForAllSolutions(model, solution_printer)\n",
    "end = time.time()\n",
    "print(f'Time elapsed: {round(end - start, 4)}')\n",
    "print('Solutions found : %i' % solution_printer.SolutionCount())"
   ]
  },
  {
   "cell_type": "code",
   "execution_count": 20,
   "metadata": {},
   "outputs": [
    {
     "name": "stdout",
     "output_type": "stream",
     "text": [
      "⋀\n",
      "⋁\n",
      "<\n",
      ">\n"
     ]
    }
   ],
   "source": [
    "print(u'\\u22C0')\n",
    "print(u'\\u22C1')\n",
    "print('<')\n",
    "print('>')"
   ]
  },
  {
   "cell_type": "code",
   "execution_count": 27,
   "metadata": {},
   "outputs": [],
   "source": [
    "import tkinter as tk\n",
    "from tkinter import Entry\n",
    "from tkinter import Tk\n",
    "from tkinter import Button\n",
    "from tkinter import END"
   ]
  },
  {
   "cell_type": "code",
   "execution_count": 28,
   "metadata": {},
   "outputs": [],
   "source": [
    "class SampleApp(tk.Tk):\n",
    "    ### create larger grid with space for < or > between each cell\n",
    "    def __init__(self):\n",
    "        tk.Tk.__init__(self)\n",
    "        self.title('Futoshiki Puzzle Setup')\n",
    "        self.entry_grid(grid)\n",
    "        self.button = Button(self, text='Submit', command=self.on_submit, width = 6)\n",
    "        self.button.grid(row = 5, columnspan = 5)\n",
    "        \n",
    "        self.button = Button(self, text='<', command=self.on_button, width = 2)\n",
    "        self.button.grid(row = 5, columnspan = 1, column = 0)\n",
    "        \n",
    "        self.button = Button(self, text='>', command=self.on_button, width = 2)\n",
    "        self.button.grid(row = 5, columnspan = 1, column = 1)\n",
    "        \n",
    "    def entry_grid(self, grid):\n",
    "        self.entries = []\n",
    "        for index, _ in np.ndenumerate(grid):\n",
    "            entry = Entry(self, width = 8, bd = 2, justify = 'center')\n",
    "            entry.grid(row = index[0], column = index[1])\n",
    "            self.entries.append(entry)\n",
    "            \n",
    "    def generate_ineqs(self):\n",
    "        pass\n",
    "\n",
    "    def on_submit(self):\n",
    "        self.values = np.array([ent.get() for ent in self.entries]).reshape(grid.shape)\n",
    "        self.destroy()\n",
    "        \n",
    "    def on_button(self):\n",
    "        self.button.configure(relief=tk.SUNKEN)"
   ]
  },
  {
   "cell_type": "code",
   "execution_count": 29,
   "metadata": {},
   "outputs": [],
   "source": [
    "w = SampleApp()"
   ]
  },
  {
   "cell_type": "code",
   "execution_count": 25,
   "metadata": {},
   "outputs": [
    {
     "ename": "NameError",
     "evalue": "name 'w' is not defined",
     "output_type": "error",
     "traceback": [
      "\u001b[1;31m---------------------------------------------------------------------------\u001b[0m",
      "\u001b[1;31mNameError\u001b[0m                                 Traceback (most recent call last)",
      "\u001b[1;32m<ipython-input-25-a806ac17bc49>\u001b[0m in \u001b[0;36m<module>\u001b[1;34m\u001b[0m\n\u001b[1;32m----> 1\u001b[1;33m \u001b[0mw\u001b[0m\u001b[1;33m.\u001b[0m\u001b[0mbutton\u001b[0m\u001b[1;33m.\u001b[0m\u001b[0m__dict__\u001b[0m\u001b[1;33m\u001b[0m\u001b[1;33m\u001b[0m\u001b[0m\n\u001b[0m",
      "\u001b[1;31mNameError\u001b[0m: name 'w' is not defined"
     ]
    }
   ],
   "source": [
    "w.button.__dict__"
   ]
  },
  {
   "cell_type": "code",
   "execution_count": 30,
   "metadata": {},
   "outputs": [],
   "source": [
    "w.mainloop()"
   ]
  },
  {
   "cell_type": "code",
   "execution_count": 415,
   "metadata": {},
   "outputs": [
    {
     "ename": "AttributeError",
     "evalue": "'_tkinter.tkapp' object has no attribute 'values'",
     "output_type": "error",
     "traceback": [
      "\u001b[1;31m---------------------------------------------------------------------------\u001b[0m",
      "\u001b[1;31mAttributeError\u001b[0m                            Traceback (most recent call last)",
      "\u001b[1;32m<ipython-input-415-667cefc691e9>\u001b[0m in \u001b[0;36m<module>\u001b[1;34m\u001b[0m\n\u001b[1;32m----> 1\u001b[1;33m \u001b[0mw\u001b[0m\u001b[1;33m.\u001b[0m\u001b[0mvalues\u001b[0m\u001b[1;33m\u001b[0m\u001b[1;33m\u001b[0m\u001b[0m\n\u001b[0m",
      "\u001b[1;32mC:\\ProgramData\\Anaconda3\\lib\\tkinter\\__init__.py\u001b[0m in \u001b[0;36m__getattr__\u001b[1;34m(self, attr)\u001b[0m\n\u001b[0;32m   2099\u001b[0m     \u001b[1;32mdef\u001b[0m \u001b[0m__getattr__\u001b[0m\u001b[1;33m(\u001b[0m\u001b[0mself\u001b[0m\u001b[1;33m,\u001b[0m \u001b[0mattr\u001b[0m\u001b[1;33m)\u001b[0m\u001b[1;33m:\u001b[0m\u001b[1;33m\u001b[0m\u001b[1;33m\u001b[0m\u001b[0m\n\u001b[0;32m   2100\u001b[0m         \u001b[1;34m\"Delegate attribute access to the interpreter object\"\u001b[0m\u001b[1;33m\u001b[0m\u001b[1;33m\u001b[0m\u001b[0m\n\u001b[1;32m-> 2101\u001b[1;33m         \u001b[1;32mreturn\u001b[0m \u001b[0mgetattr\u001b[0m\u001b[1;33m(\u001b[0m\u001b[0mself\u001b[0m\u001b[1;33m.\u001b[0m\u001b[0mtk\u001b[0m\u001b[1;33m,\u001b[0m \u001b[0mattr\u001b[0m\u001b[1;33m)\u001b[0m\u001b[1;33m\u001b[0m\u001b[1;33m\u001b[0m\u001b[0m\n\u001b[0m\u001b[0;32m   2102\u001b[0m \u001b[1;33m\u001b[0m\u001b[0m\n\u001b[0;32m   2103\u001b[0m \u001b[1;31m# Ideally, the classes Pack, Place and Grid disappear, the\u001b[0m\u001b[1;33m\u001b[0m\u001b[1;33m\u001b[0m\u001b[1;33m\u001b[0m\u001b[0m\n",
      "\u001b[1;31mAttributeError\u001b[0m: '_tkinter.tkapp' object has no attribute 'values'"
     ]
    }
   ],
   "source": [
    "w.values"
   ]
  },
  {
   "cell_type": "code",
   "execution_count": 21,
   "metadata": {},
   "outputs": [],
   "source": [
    "import tkinter as tk\n",
    "import random\n",
    "\n",
    "class App(tk.Tk):\n",
    "    def __init__(self, *args, **kwargs):\n",
    "        tk.Tk.__init__(self, *args, **kwargs)\n",
    "        self.canvas = tk.Canvas(self, width=500, height=500, borderwidth=0, highlightthickness=0)\n",
    "        self.canvas.pack(side=\"top\", fill=\"both\", expand=\"true\")\n",
    "        self.rows = 100\n",
    "        self.columns = 100\n",
    "        self.cellwidth = 25\n",
    "        self.cellheight = 25\n",
    "\n",
    "        self.rect = {}\n",
    "        self.oval = {}\n",
    "        for column in range(20):\n",
    "            for row in range(20):\n",
    "                x1 = column*self.cellwidth\n",
    "                y1 = row * self.cellheight\n",
    "                x2 = x1 + self.cellwidth\n",
    "                y2 = y1 + self.cellheight\n",
    "                self.rect[row,column] = self.canvas.create_rectangle(x1,y1,x2,y2, fill=\"blue\", tags=\"rect\")\n",
    "                self.oval[row,column] = self.canvas.create_oval(x1+2,y1+2,x2-2,y2-2, fill=\"blue\", tags=\"oval\")\n",
    "\n",
    "        self.redraw(1000)\n",
    "\n",
    "    def redraw(self, delay):\n",
    "        self.canvas.itemconfig(\"rect\", fill=\"blue\")\n",
    "        self.canvas.itemconfig(\"oval\", fill=\"blue\")\n",
    "        for i in range(10):\n",
    "            row = random.randint(0,19)\n",
    "            col = random.randint(0,19)\n",
    "            item_id = self.oval[row,col]\n",
    "            self.canvas.itemconfig(item_id, fill=\"green\")\n",
    "        self.after(delay, lambda: self.redraw(delay))"
   ]
  },
  {
   "cell_type": "code",
   "execution_count": 22,
   "metadata": {},
   "outputs": [],
   "source": [
    "app = App()\n",
    "app.mainloop()"
   ]
  },
  {
   "cell_type": "code",
   "execution_count": null,
   "metadata": {},
   "outputs": [],
   "source": []
  }
 ],
 "metadata": {
  "kernelspec": {
   "display_name": "Python 3",
   "language": "python",
   "name": "python3"
  },
  "language_info": {
   "codemirror_mode": {
    "name": "ipython",
    "version": 3
   },
   "file_extension": ".py",
   "mimetype": "text/x-python",
   "name": "python",
   "nbconvert_exporter": "python",
   "pygments_lexer": "ipython3",
   "version": "3.7.1"
  }
 },
 "nbformat": 4,
 "nbformat_minor": 4
}
