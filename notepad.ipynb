{
 "cells": [
  {
   "cell_type": "code",
   "execution_count": 3,
   "metadata": {},
   "outputs": [],
   "source": [
    "import numpy as np\n",
    "from ortools.sat.python import cp_model"
   ]
  },
  {
   "cell_type": "code",
   "execution_count": 4,
   "metadata": {},
   "outputs": [],
   "source": [
    "puzzle_size = 5"
   ]
  },
  {
   "cell_type": "code",
   "execution_count": 174,
   "metadata": {},
   "outputs": [],
   "source": [
    "model = cp_model.CpModel()"
   ]
  },
  {
   "cell_type": "code",
   "execution_count": 175,
   "metadata": {},
   "outputs": [
    {
     "data": {
      "text/plain": [
       "dict_keys([5, 9, 12, 19])"
      ]
     },
     "execution_count": 175,
     "metadata": {},
     "output_type": "execute_result"
    }
   ],
   "source": [
    "start_numbers = {\n",
    "    5: 4,\n",
    "    9: 2,\n",
    "    12: 4,\n",
    "    19: 4\n",
    "}\n",
    "\n",
    "start_numbers.keys()"
   ]
  },
  {
   "cell_type": "code",
   "execution_count": 176,
   "metadata": {},
   "outputs": [],
   "source": [
    "grid = np.array([model.NewIntVar(start_numbers.get(i, 1), \n",
    "                                 start_numbers.get(i, 5), \n",
    "                                 f'{i}') for i in range(puzzle_size ** 2)])\n",
    "\n",
    "grid = grid.reshape((puzzle_size, -1))"
   ]
  },
  {
   "cell_type": "code",
   "execution_count": 177,
   "metadata": {},
   "outputs": [
    {
     "data": {
      "text/plain": [
       "array([[0(1..5), 1(1..5), 2(1..5), 3(1..5), 4(1..5)],\n",
       "       [5(4), 6(1..5), 7(1..5), 8(1..5), 9(2)],\n",
       "       [10(1..5), 11(1..5), 12(4), 13(1..5), 14(1..5)],\n",
       "       [15(1..5), 16(1..5), 17(1..5), 18(1..5), 19(4)],\n",
       "       [20(1..5), 21(1..5), 22(1..5), 23(1..5), 24(1..5)]], dtype=object)"
      ]
     },
     "execution_count": 177,
     "metadata": {},
     "output_type": "execute_result"
    }
   ],
   "source": [
    "grid"
   ]
  },
  {
   "cell_type": "code",
   "execution_count": 178,
   "metadata": {},
   "outputs": [
    {
     "data": {
      "text/plain": [
       "(5, 5)"
      ]
     },
     "execution_count": 178,
     "metadata": {},
     "output_type": "execute_result"
    }
   ],
   "source": [
    "grid.shape"
   ]
  },
  {
   "cell_type": "code",
   "execution_count": 179,
   "metadata": {},
   "outputs": [
    {
     "name": "stdout",
     "output_type": "stream",
     "text": [
      "[0(1..5) 1(1..5) 2(1..5) 3(1..5) 4(1..5)]\n",
      "[5(4) 6(1..5) 7(1..5) 8(1..5) 9(2)]\n",
      "[10(1..5) 11(1..5) 12(4) 13(1..5) 14(1..5)]\n",
      "[15(1..5) 16(1..5) 17(1..5) 18(1..5) 19(4)]\n",
      "[20(1..5) 21(1..5) 22(1..5) 23(1..5) 24(1..5)]\n"
     ]
    }
   ],
   "source": [
    "# need to add constraint to all rows and column -- all different\n",
    "for row in grid:\n",
    "    print(row)\n",
    "    model.AddAllDifferent(row)"
   ]
  },
  {
   "cell_type": "code",
   "execution_count": 180,
   "metadata": {},
   "outputs": [
    {
     "name": "stdout",
     "output_type": "stream",
     "text": [
      "[0(1..5) 5(4) 10(1..5) 15(1..5) 20(1..5)]\n",
      "[1(1..5) 6(1..5) 11(1..5) 16(1..5) 21(1..5)]\n",
      "[2(1..5) 7(1..5) 12(4) 17(1..5) 22(1..5)]\n",
      "[3(1..5) 8(1..5) 13(1..5) 18(1..5) 23(1..5)]\n",
      "[4(1..5) 9(2) 14(1..5) 19(4) 24(1..5)]\n"
     ]
    }
   ],
   "source": [
    "for column in grid.T:\n",
    "    print(column)\n",
    "    model.AddAllDifferent(column)\n",
    "    "
   ]
  },
  {
   "cell_type": "code",
   "execution_count": 181,
   "metadata": {},
   "outputs": [
    {
     "data": {
      "text/plain": [
       "1(1..5)"
      ]
     },
     "execution_count": 181,
     "metadata": {},
     "output_type": "execute_result"
    }
   ],
   "source": [
    "grid[0,1]"
   ]
  },
  {
   "cell_type": "markdown",
   "metadata": {},
   "source": [
    "Create inequality constraints  \n",
    "data format as tuples, \n",
    "* `[0]` = is on the lower side\n",
    "* `[1]` = is on the higher side"
   ]
  },
  {
   "cell_type": "code",
   "execution_count": 182,
   "metadata": {},
   "outputs": [],
   "source": [
    "ineqs = [(1,0), (3,2), (4,3), (18,19), (20,21), (21,22)]"
   ]
  },
  {
   "cell_type": "code",
   "execution_count": 183,
   "metadata": {},
   "outputs": [],
   "source": [
    "ineqs = [\n",
    "    ((0,1), (0,0)),\n",
    "    ((0,3), (0,2)),\n",
    "    ((0,4), (0,3)),\n",
    "    ((3,3), (3,4)),\n",
    "    ((4,0), (4,1)),\n",
    "    ((4,1), (4,2))\n",
    "    ]"
   ]
  },
  {
   "cell_type": "code",
   "execution_count": 184,
   "metadata": {},
   "outputs": [
    {
     "data": {
      "text/plain": [
       "2(1..5)"
      ]
     },
     "execution_count": 184,
     "metadata": {},
     "output_type": "execute_result"
    }
   ],
   "source": [
    "grid[ineqs[1][1]]"
   ]
  },
  {
   "cell_type": "code",
   "execution_count": 185,
   "metadata": {},
   "outputs": [],
   "source": [
    "for i in ineqs:\n",
    "    model.Add(grid[i[0]] < grid[i[1]])"
   ]
  },
  {
   "cell_type": "code",
   "execution_count": 186,
   "metadata": {},
   "outputs": [],
   "source": [
    "solver = cp_model.CpSolver()"
   ]
  },
  {
   "cell_type": "code",
   "execution_count": 187,
   "metadata": {},
   "outputs": [
    {
     "name": "stdout",
     "output_type": "stream",
     "text": [
      "[0(1..5), 1(1..5), 2(1..5), 3(1..5), 4(1..5)]\n",
      "[5(4), 6(1..5), 7(1..5), 8(1..5), 9(2)]\n",
      "[10(1..5), 11(1..5), 12(4), 13(1..5), 14(1..5)]\n",
      "[15(1..5), 16(1..5), 17(1..5), 18(1..5), 19(4)]\n",
      "[20(1..5), 21(1..5), 22(1..5), 23(1..5), 24(1..5)]\n"
     ]
    }
   ],
   "source": [
    "for row in grid:\n",
    "    print(row.tolist())"
   ]
  },
  {
   "cell_type": "code",
   "execution_count": 188,
   "metadata": {},
   "outputs": [],
   "source": [
    "class DiagramPrinter(cp_model.CpSolverSolutionCallback):\n",
    "    def __init__(self, variables, ineqs):\n",
    "        cp_model.CpSolverSolutionCallback.__init__(self)\n",
    "        self.__variables = variables\n",
    "        self.__solution_count = 0\n",
    "        self.__ineqs = ineqs\n",
    "    \n",
    "    def OnSolutionCallback(self):\n",
    "        self.__solution_count += 1\n",
    " \n",
    "        for row in self.__variables:\n",
    "            row = row.tolist()\n",
    "            vals = [self.Value(val) for val in row]\n",
    "            print(\"+---+---+---+---+---+\")\n",
    "            print('| ', end = '')\n",
    "            print(' | '.join(str(x) for x in vals), end = '')\n",
    "            print(' |')\n",
    "        \n",
    "        print(\"+---+---+---+---+---+\")\n",
    "    \n",
    "    def SolutionCount(self):\n",
    "        return self.__solution_count"
   ]
  },
  {
   "cell_type": "code",
   "execution_count": 189,
   "metadata": {},
   "outputs": [],
   "source": [
    "solution_printer = DiagramPrinter(grid, ineqs)"
   ]
  },
  {
   "cell_type": "code",
   "execution_count": 190,
   "metadata": {},
   "outputs": [
    {
     "name": "stdout",
     "output_type": "stream",
     "text": [
      "+---+---+---+---+---+\n",
      "| 5 | 4 | 3 | 2 | 1 |\n",
      "+---+---+---+---+---+\n",
      "| 4 | 3 | 1 | 5 | 2 |\n",
      "+---+---+---+---+---+\n",
      "| 2 | 1 | 4 | 3 | 5 |\n",
      "+---+---+---+---+---+\n",
      "| 3 | 5 | 2 | 1 | 4 |\n",
      "+---+---+---+---+---+\n",
      "| 1 | 2 | 5 | 4 | 3 |\n",
      "+---+---+---+---+---+\n"
     ]
    }
   ],
   "source": [
    "status = solver.SearchForAllSolutions(model, solution_printer)"
   ]
  },
  {
   "cell_type": "code",
   "execution_count": 191,
   "metadata": {},
   "outputs": [
    {
     "name": "stdout",
     "output_type": "stream",
     "text": [
      "Solutions found : 1\n"
     ]
    }
   ],
   "source": [
    "print('Solutions found : %i' % solution_printer.SolutionCount())"
   ]
  },
  {
   "cell_type": "code",
   "execution_count": 324,
   "metadata": {},
   "outputs": [
    {
     "name": "stdout",
     "output_type": "stream",
     "text": [
      "⋀\n",
      "⋁\n",
      "<\n",
      ">\n"
     ]
    }
   ],
   "source": [
    "print(u'\\u22C0')\n",
    "print(u'\\u22C1')\n",
    "print('<')\n",
    "print('>')"
   ]
  },
  {
   "cell_type": "code",
   "execution_count": 257,
   "metadata": {},
   "outputs": [],
   "source": [
    "from tkinter import Entry\n",
    "from tkinter import Tk\n",
    "from tkinter import Button\n",
    "from tkinter import END"
   ]
  },
  {
   "cell_type": "code",
   "execution_count": 312,
   "metadata": {},
   "outputs": [],
   "source": [
    "class SampleApp(tk.Tk):\n",
    "    \n",
    "    def __init__(self):\n",
    "        tk.Tk.__init__(self)\n",
    "        self.title('Futoshiki Puzzle Setup')\n",
    "        self.entry_grid(grid)\n",
    "        self.button = Button(self, text=\"Submit\", command=self.on_button, width = 6)\n",
    "        self.button.grid(row = 5, columnspan = 5)\n",
    "        \n",
    "    def entry_grid(self, grid):\n",
    "        self.entries = []\n",
    "        for index, _ in np.ndenumerate(grid):\n",
    "            entry = Entry(self, width = 4, bd = 2, justify = 'center')\n",
    "            entry.grid(row = index[0], column = index[1])\n",
    "            self.entries.append(entry)\n",
    "\n",
    "    def on_button(self):\n",
    "        self.values = np.array([ent.get() for ent in self.entries]).reshape(grid.shape)\n",
    "        self.destroy()"
   ]
  },
  {
   "cell_type": "code",
   "execution_count": 319,
   "metadata": {},
   "outputs": [],
   "source": [
    "w = SampleApp()"
   ]
  },
  {
   "cell_type": "code",
   "execution_count": 320,
   "metadata": {},
   "outputs": [],
   "source": [
    "w.mainloop()"
   ]
  },
  {
   "cell_type": "code",
   "execution_count": 315,
   "metadata": {},
   "outputs": [
    {
     "data": {
      "text/plain": [
       "array([['', '', '', '', ''],\n",
       "       ['', '', '', '', ''],\n",
       "       ['', '', '', '', ''],\n",
       "       ['', '', '2', '3', ''],\n",
       "       ['', '', '', '', '']], dtype='<U1')"
      ]
     },
     "execution_count": 315,
     "metadata": {},
     "output_type": "execute_result"
    }
   ],
   "source": [
    "w.values"
   ]
  },
  {
   "cell_type": "code",
   "execution_count": 263,
   "metadata": {},
   "outputs": [],
   "source": [
    "import tkinter as tk\n",
    "import random\n",
    "\n",
    "class App(tk.Tk):\n",
    "    def __init__(self, *args, **kwargs):\n",
    "        tk.Tk.__init__(self, *args, **kwargs)\n",
    "        self.canvas = tk.Canvas(self, width=500, height=500, borderwidth=0, highlightthickness=0)\n",
    "        self.canvas.pack(side=\"top\", fill=\"both\", expand=\"true\")\n",
    "        self.rows = 100\n",
    "        self.columns = 100\n",
    "        self.cellwidth = 25\n",
    "        self.cellheight = 25\n",
    "\n",
    "        self.rect = {}\n",
    "        self.oval = {}\n",
    "        for column in range(20):\n",
    "            for row in range(20):\n",
    "                x1 = column*self.cellwidth\n",
    "                y1 = row * self.cellheight\n",
    "                x2 = x1 + self.cellwidth\n",
    "                y2 = y1 + self.cellheight\n",
    "                self.rect[row,column] = self.canvas.create_rectangle(x1,y1,x2,y2, fill=\"blue\", tags=\"rect\")\n",
    "                self.oval[row,column] = self.canvas.create_oval(x1+2,y1+2,x2-2,y2-2, fill=\"blue\", tags=\"oval\")\n",
    "\n",
    "        self.redraw(1000)\n",
    "\n",
    "    def redraw(self, delay):\n",
    "        self.canvas.itemconfig(\"rect\", fill=\"blue\")\n",
    "        self.canvas.itemconfig(\"oval\", fill=\"blue\")\n",
    "        for i in range(10):\n",
    "            row = random.randint(0,19)\n",
    "            col = random.randint(0,19)\n",
    "            item_id = self.oval[row,col]\n",
    "            self.canvas.itemconfig(item_id, fill=\"green\")\n",
    "        self.after(delay, lambda: self.redraw(delay))"
   ]
  },
  {
   "cell_type": "code",
   "execution_count": 264,
   "metadata": {},
   "outputs": [],
   "source": [
    "app = App()\n",
    "app.mainloop()"
   ]
  },
  {
   "cell_type": "code",
   "execution_count": null,
   "metadata": {},
   "outputs": [],
   "source": []
  }
 ],
 "metadata": {
  "kernelspec": {
   "display_name": "Python 3",
   "language": "python",
   "name": "python3"
  },
  "language_info": {
   "codemirror_mode": {
    "name": "ipython",
    "version": 3
   },
   "file_extension": ".py",
   "mimetype": "text/x-python",
   "name": "python",
   "nbconvert_exporter": "python",
   "pygments_lexer": "ipython3",
   "version": "3.7.1"
  }
 },
 "nbformat": 4,
 "nbformat_minor": 2
}
