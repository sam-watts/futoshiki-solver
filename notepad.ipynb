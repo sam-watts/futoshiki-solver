{
 "cells": [
  {
   "cell_type": "code",
   "execution_count": 1,
   "metadata": {},
   "outputs": [
    {
     "name": "stdout",
     "output_type": "stream",
     "text": [
      "[0(1..5) 1(1..5) 2(5) 3(1..5) 4(1..5)]\n",
      "[5(1..5) 6(1..5) 7(1..5) 8(3) 9(1..5)]\n",
      "[10(1..5) 11(1..5) 12(1..5) 13(1..5) 14(1..5)]\n",
      "[15(1..5) 16(1..5) 17(1) 18(1..5) 19(1..5)]\n",
      "[20(1..5) 21(1..5) 22(1..5) 23(1..5) 24(1..5)]\n",
      "[0(1..5) 5(1..5) 10(1..5) 15(1..5) 20(1..5)]\n",
      "[1(1..5) 6(1..5) 11(1..5) 16(1..5) 21(1..5)]\n",
      "[2(5) 7(1..5) 12(1..5) 17(1) 22(1..5)]\n",
      "[3(1..5) 8(3) 13(1..5) 18(1..5) 23(1..5)]\n",
      "[4(1..5) 9(1..5) 14(1..5) 19(1..5) 24(1..5)]\n"
     ]
    }
   ],
   "source": [
    "import numpy as np\n",
    "from ortools.sat.python import cp_model\n",
    "import time\n",
    "\n",
    "puzzle_size = 5\n",
    "\n",
    "model = cp_model.CpModel()\n",
    "\n",
    "start_numbers = {\n",
    "    5: 4,\n",
    "    9: 2,\n",
    "    12: 4,\n",
    "    19: 4\n",
    "}\n",
    "\n",
    "start_numbers = {2: 5, 8: 3, 17: 1}\n",
    "\n",
    "start_numbers.keys()\n",
    "\n",
    "grid = np.array([model.NewIntVar(start_numbers.get(i, 1), \n",
    "                                 start_numbers.get(i, 5), \n",
    "                                 f'{i}') for i in range(puzzle_size ** 2)])\n",
    "\n",
    "grid = grid.reshape((puzzle_size, -1))\n",
    "\n",
    "grid\n",
    "\n",
    "grid.shape\n",
    "\n",
    "# need to add constraint to all rows and column -- all different\n",
    "for row in grid:\n",
    "    print(row)\n",
    "    model.AddAllDifferent(row)\n",
    "\n",
    "for column in grid.T:\n",
    "    print(column)\n",
    "    model.AddAllDifferent(column)\n",
    "    \n",
    "\n",
    "grid[0,1]\n",
    "\n",
    "# Create inequality constraints  \n",
    "# data format as tuples, \n",
    "# * `[0]` = is on the lower side\n",
    "# * `[1]` = is on the higher side\n",
    "# \n",
    "# as 1D coordinates\n",
    "ineqs = [(1,0), (3,2), (4,3), (18,19), (20,21), (21,22)]\n",
    "\n",
    "# as 2D coordinates\n",
    "ineqs = [\n",
    "    ((0,1), (0,0)),\n",
    "    ((0,3), (0,2)),\n",
    "    ((0,4), (0,3)),\n",
    "    ((3,3), (3,4)),\n",
    "    ((4,0), (4,1)),\n",
    "    ((4,1), (4,2))\n",
    "    ]\n",
    "\n",
    "ineqs = [\n",
    "        ((0,0), (1,0)),\n",
    "        ((1,2), (1,3)),\n",
    "        ((1,1), (2,1)),\n",
    "        ((1,2), (2,2)),\n",
    "        ((1,4), (2,4)),\n",
    "        ((2,3), (2,2)),\n",
    "        ((2,0), (3,0)),\n",
    "        ((2,3), (2,4)),\n",
    "        ((3,1), (3,0)),\n",
    "        ((3,3), (3,4)),\n",
    "        ((3,1), (4,1)),\n",
    "        ((4,1), (4,2)),\n",
    "        ((4,4), (4,3))\n",
    "        ]"
   ]
  },
  {
   "cell_type": "code",
   "execution_count": 2,
   "metadata": {},
   "outputs": [
    {
     "data": {
      "text/plain": [
       "8(3)"
      ]
     },
     "execution_count": 2,
     "metadata": {},
     "output_type": "execute_result"
    }
   ],
   "source": [
    "grid[ineqs[1][1]]"
   ]
  },
  {
   "cell_type": "code",
   "execution_count": 3,
   "metadata": {},
   "outputs": [
    {
     "data": {
      "text/plain": [
       "2(5)"
      ]
     },
     "execution_count": 3,
     "metadata": {},
     "output_type": "execute_result"
    }
   ],
   "source": [
    "grid[0,2]"
   ]
  },
  {
   "cell_type": "code",
   "execution_count": 4,
   "metadata": {},
   "outputs": [],
   "source": [
    "for i in ineqs:\n",
    "    model.Add(grid[i[0]] < grid[i[1]])"
   ]
  },
  {
   "cell_type": "code",
   "execution_count": 5,
   "metadata": {},
   "outputs": [],
   "source": [
    "solver = cp_model.CpSolver()"
   ]
  },
  {
   "cell_type": "code",
   "execution_count": 6,
   "metadata": {},
   "outputs": [
    {
     "name": "stdout",
     "output_type": "stream",
     "text": [
      "[0(1..5), 1(1..5), 2(5), 3(1..5), 4(1..5)]\n",
      "[5(1..5), 6(1..5), 7(1..5), 8(3), 9(1..5)]\n",
      "[10(1..5), 11(1..5), 12(1..5), 13(1..5), 14(1..5)]\n",
      "[15(1..5), 16(1..5), 17(1), 18(1..5), 19(1..5)]\n",
      "[20(1..5), 21(1..5), 22(1..5), 23(1..5), 24(1..5)]\n"
     ]
    }
   ],
   "source": [
    "for row in grid:\n",
    "    print(row.tolist())"
   ]
  },
  {
   "cell_type": "code",
   "execution_count": 7,
   "metadata": {},
   "outputs": [],
   "source": [
    "row_sep = list('+---+---+---+---+---+')\n",
    "\n",
    "row_subs = [2, 6, 10, 14, 18]\n",
    "row_sep[row_subs[0]] = u'\\u22C0'"
   ]
  },
  {
   "cell_type": "code",
   "execution_count": 8,
   "metadata": {},
   "outputs": [
    {
     "data": {
      "text/plain": [
       "'+-⋀-+---+---+---+---+'"
      ]
     },
     "execution_count": 8,
     "metadata": {},
     "output_type": "execute_result"
    }
   ],
   "source": [
    "''.join(row_sep)"
   ]
  },
  {
   "cell_type": "code",
   "execution_count": 9,
   "metadata": {},
   "outputs": [
    {
     "data": {
      "text/plain": [
       "'⋀'"
      ]
     },
     "execution_count": 9,
     "metadata": {},
     "output_type": "execute_result"
    }
   ],
   "source": [
    "u'\\u22C0'"
   ]
  },
  {
   "cell_type": "code",
   "execution_count": 10,
   "metadata": {},
   "outputs": [
    {
     "data": {
      "text/plain": [
       "'⋁'"
      ]
     },
     "execution_count": 10,
     "metadata": {},
     "output_type": "execute_result"
    }
   ],
   "source": [
    "u'\\u22C1'"
   ]
  },
  {
   "cell_type": "code",
   "execution_count": 11,
   "metadata": {},
   "outputs": [],
   "source": [
    "vals = [1, 2, 3, 4, 5]\n",
    "['|', ' '] + list(' | '.join(str(x) for x in vals)) + [' ', '|']\n",
    "col_subs = [4, 8, 12, 16]"
   ]
  },
  {
   "cell_type": "code",
   "execution_count": 40,
   "metadata": {},
   "outputs": [],
   "source": [
    "class DiagramPrinter(cp_model.CpSolverSolutionCallback):\n",
    "    def __init__(self, variables, ineqs):\n",
    "        cp_model.CpSolverSolutionCallback.__init__(self)\n",
    "        self.__variables = variables\n",
    "        self.__solution_count = 0\n",
    "        self.__ineqs = ineqs\n",
    "    \n",
    "    def OnSolutionCallback(self):\n",
    "        self.__solution_count += 1\n",
    "        \n",
    "        # define inequality symbols\n",
    "        tb = '˄' # u'\\u22C0' # ⋀\n",
    "        bt = '˅' # u'\\u22C1' # ⋁\n",
    "        lr = '<'\n",
    "        rl = '>'\n",
    "        \n",
    "        ineqs = self.__ineqs.copy()\n",
    "        \n",
    "        print('+---+---+---+---+---+')\n",
    "        \n",
    "        for i, row in enumerate(self.__variables):\n",
    "            # if i == 1: break\n",
    "            scope_ineqs = [ineq for ineq in ineqs if ineq[0][0] == i or ineq[1][0] == i]\n",
    "            \n",
    "            row = row.tolist()\n",
    "            vals = [self.Value(val) for val in row]\n",
    "            \n",
    "            col_sep = ['|', ' '] + list(' | '.join(str(x) for x in vals)) + [' ', '|']\n",
    "            col_subs = [4, 8, 12, 16]\n",
    "            \n",
    "            row_sep = list('+---+---+---+---+---+')\n",
    "            row_subs = [2, 6, 10, 14, 18]\n",
    "            \n",
    "            # if i == 2: break\n",
    "                \n",
    "            for ineq in scope_ineqs:\n",
    "                lower = ineq[0]\n",
    "                higher = ineq[1]\n",
    "                \n",
    "                \n",
    "                \n",
    "                # if i == 0: print(lower, higher)\n",
    "                \n",
    "                if lower[0] == higher[0]: # if in the same row\n",
    "                    if lower[1] > higher[1]: # if lower end is to the right\n",
    "                        col_sep[col_subs[min(lower[1], higher[1])]] = rl\n",
    "                    elif lower[1] < higher[1]: # if lower end is to the left\n",
    "                        col_sep[col_subs[min(lower[1], higher[1])]] = lr\n",
    "                    \n",
    "                elif i != 4 and lower[1] == higher[1]: # if in the same column, don't need for final row\n",
    "                    if lower[0] > higher[0]: # if the lower end is on the bottom column\n",
    "                        row_sep[row_subs[lower[1]]] = bt\n",
    "                    elif lower[0] < higher[0]: # if the lower end is on top column\n",
    "                        row_sep[row_subs[lower[1]]] = tb\n",
    "                \n",
    "                # remove entry at end of loop\n",
    "                ineqs.remove(ineq)\n",
    "                       \n",
    "            print(''.join(col_sep))\n",
    "            print(''.join(row_sep))\n",
    "        \n",
    "    \n",
    "    def SolutionCount(self):\n",
    "        return self.__solution_count"
   ]
  },
  {
   "cell_type": "code",
   "execution_count": 41,
   "metadata": {},
   "outputs": [
    {
     "name": "stdout",
     "output_type": "stream",
     "text": [
      "+---+---+---+---+---+\n",
      "| 4 | 1 | 5 | 2 | 3 |\n",
      "+-˄-+---+---+---+---+\n",
      "| 5 | 4 | 2 < 3 | 1 |\n",
      "+---+-˄-+-˄-+---+-˄-+\n",
      "| 2 | 5 | 3 > 1 < 4 |\n",
      "+-˄-+---+---+---+---+\n",
      "| 3 > 2 | 1 | 4 < 5 |\n",
      "+---+-˄-+---+---+---+\n",
      "| 1 | 3 < 4 | 5 > 2 |\n",
      "+---+---+---+---+---+\n",
      "Time elapsed: 0.003\n",
      "Solutions found : 1\n"
     ]
    }
   ],
   "source": [
    "solution_printer = DiagramPrinter(grid, ineqs)\n",
    "start = time.time()\n",
    "status = solver.SearchForAllSolutions(model, solution_printer)\n",
    "end = time.time()\n",
    "print(f'Time elapsed: {round(end - start, 4)}')\n",
    "print('Solutions found : %i' % solution_printer.SolutionCount())"
   ]
  },
  {
   "cell_type": "code",
   "execution_count": 30,
   "metadata": {},
   "outputs": [
    {
     "ename": "SyntaxError",
     "evalue": "(unicode error) 'unicodeescape' codec can't decode bytes in position 0-4: truncated \\uXXXX escape (<ipython-input-30-8e8f487bee85>, line 1)",
     "output_type": "error",
     "traceback": [
      "\u001b[1;36m  File \u001b[1;32m\"<ipython-input-30-8e8f487bee85>\"\u001b[1;36m, line \u001b[1;32m1\u001b[0m\n\u001b[1;33m    '\\u2c5'\u001b[0m\n\u001b[1;37m           ^\u001b[0m\n\u001b[1;31mSyntaxError\u001b[0m\u001b[1;31m:\u001b[0m (unicode error) 'unicodeescape' codec can't decode bytes in position 0-4: truncated \\uXXXX escape\n"
     ]
    }
   ],
   "source": [
    "'\\u2c5'"
   ]
  },
  {
   "cell_type": "code",
   "execution_count": null,
   "metadata": {},
   "outputs": [],
   "source": [
    "'^'"
   ]
  },
  {
   "cell_type": "code",
   "execution_count": 32,
   "metadata": {},
   "outputs": [
    {
     "ename": "SyntaxError",
     "evalue": "bytes can only contain ASCII literal characters. (<ipython-input-32-d5acc3d5c568>, line 1)",
     "output_type": "error",
     "traceback": [
      "\u001b[1;36m  File \u001b[1;32m\"<ipython-input-32-d5acc3d5c568>\"\u001b[1;36m, line \u001b[1;32m1\u001b[0m\n\u001b[1;33m    b'˅'\u001b[0m\n\u001b[1;37m        ^\u001b[0m\n\u001b[1;31mSyntaxError\u001b[0m\u001b[1;31m:\u001b[0m bytes can only contain ASCII literal characters.\n"
     ]
    }
   ],
   "source": [
    "'˅'"
   ]
  },
  {
   "cell_type": "code",
   "execution_count": 48,
   "metadata": {},
   "outputs": [
    {
     "data": {
      "text/plain": [
       "[((0, 0), (1, 0)),\n",
       " ((1, 2), (1, 3)),\n",
       " ((1, 1), (2, 1)),\n",
       " ((1, 2), (2, 2)),\n",
       " ((1, 4), (2, 4)),\n",
       " ((2, 3), (2, 2)),\n",
       " ((2, 3), (2, 4)),\n",
       " ((2, 0), (3, 0)),\n",
       " ((3, 1), (3, 0)),\n",
       " ((3, 3), (3, 4)),\n",
       " ((3, 1), (4, 1)),\n",
       " ((4, 1), (4, 2)),\n",
       " ((4, 4), (4, 3))]"
      ]
     },
     "execution_count": 48,
     "metadata": {},
     "output_type": "execute_result"
    }
   ],
   "source": [
    "ineqs"
   ]
  },
  {
   "cell_type": "code",
   "execution_count": 17,
   "metadata": {},
   "outputs": [
    {
     "name": "stdout",
     "output_type": "stream",
     "text": [
      "⋀\n",
      "⋁\n",
      "<\n",
      ">\n"
     ]
    }
   ],
   "source": [
    "print(u'\\u22C0')\n",
    "print(u'\\u22C1')\n",
    "print('<')\n",
    "print('>')"
   ]
  },
  {
   "cell_type": "code",
   "execution_count": 27,
   "metadata": {},
   "outputs": [],
   "source": [
    "import tkinter as tk\n",
    "from tkinter import Entry\n",
    "from tkinter import Tk\n",
    "from tkinter import Button\n",
    "from tkinter import END"
   ]
  },
  {
   "cell_type": "code",
   "execution_count": 28,
   "metadata": {},
   "outputs": [],
   "source": [
    "class SampleApp(tk.Tk):\n",
    "    ### create larger grid with space for < or > between each cell\n",
    "    def __init__(self):\n",
    "        tk.Tk.__init__(self)\n",
    "        self.title('Futoshiki Puzzle Setup')\n",
    "        self.entry_grid(grid)\n",
    "        self.button = Button(self, text='Submit', command=self.on_submit, width = 6)\n",
    "        self.button.grid(row = 5, columnspan = 5)\n",
    "        \n",
    "        self.button = Button(self, text='<', command=self.on_button, width = 2)\n",
    "        self.button.grid(row = 5, columnspan = 1, column = 0)\n",
    "        \n",
    "        self.button = Button(self, text='>', command=self.on_button, width = 2)\n",
    "        self.button.grid(row = 5, columnspan = 1, column = 1)\n",
    "        \n",
    "    def entry_grid(self, grid):\n",
    "        self.entries = []\n",
    "        for index, _ in np.ndenumerate(grid):\n",
    "            entry = Entry(self, width = 8, bd = 2, justify = 'center')\n",
    "            entry.grid(row = index[0], column = index[1])\n",
    "            self.entries.append(entry)\n",
    "            \n",
    "    def generate_ineqs(self):\n",
    "        pass\n",
    "\n",
    "    def on_submit(self):\n",
    "        self.values = np.array([ent.get() for ent in self.entries]).reshape(grid.shape)\n",
    "        self.destroy()\n",
    "        \n",
    "    def on_button(self):\n",
    "        self.button.configure(relief=tk.SUNKEN)"
   ]
  },
  {
   "cell_type": "code",
   "execution_count": 29,
   "metadata": {},
   "outputs": [],
   "source": [
    "w = SampleApp()"
   ]
  },
  {
   "cell_type": "code",
   "execution_count": 25,
   "metadata": {},
   "outputs": [
    {
     "ename": "NameError",
     "evalue": "name 'w' is not defined",
     "output_type": "error",
     "traceback": [
      "\u001b[1;31m---------------------------------------------------------------------------\u001b[0m",
      "\u001b[1;31mNameError\u001b[0m                                 Traceback (most recent call last)",
      "\u001b[1;32m<ipython-input-25-a806ac17bc49>\u001b[0m in \u001b[0;36m<module>\u001b[1;34m\u001b[0m\n\u001b[1;32m----> 1\u001b[1;33m \u001b[0mw\u001b[0m\u001b[1;33m.\u001b[0m\u001b[0mbutton\u001b[0m\u001b[1;33m.\u001b[0m\u001b[0m__dict__\u001b[0m\u001b[1;33m\u001b[0m\u001b[1;33m\u001b[0m\u001b[0m\n\u001b[0m",
      "\u001b[1;31mNameError\u001b[0m: name 'w' is not defined"
     ]
    }
   ],
   "source": [
    "w.button.__dict__"
   ]
  },
  {
   "cell_type": "code",
   "execution_count": 30,
   "metadata": {},
   "outputs": [],
   "source": [
    "w.mainloop()"
   ]
  },
  {
   "cell_type": "code",
   "execution_count": 415,
   "metadata": {},
   "outputs": [
    {
     "ename": "AttributeError",
     "evalue": "'_tkinter.tkapp' object has no attribute 'values'",
     "output_type": "error",
     "traceback": [
      "\u001b[1;31m---------------------------------------------------------------------------\u001b[0m",
      "\u001b[1;31mAttributeError\u001b[0m                            Traceback (most recent call last)",
      "\u001b[1;32m<ipython-input-415-667cefc691e9>\u001b[0m in \u001b[0;36m<module>\u001b[1;34m\u001b[0m\n\u001b[1;32m----> 1\u001b[1;33m \u001b[0mw\u001b[0m\u001b[1;33m.\u001b[0m\u001b[0mvalues\u001b[0m\u001b[1;33m\u001b[0m\u001b[1;33m\u001b[0m\u001b[0m\n\u001b[0m",
      "\u001b[1;32mC:\\ProgramData\\Anaconda3\\lib\\tkinter\\__init__.py\u001b[0m in \u001b[0;36m__getattr__\u001b[1;34m(self, attr)\u001b[0m\n\u001b[0;32m   2099\u001b[0m     \u001b[1;32mdef\u001b[0m \u001b[0m__getattr__\u001b[0m\u001b[1;33m(\u001b[0m\u001b[0mself\u001b[0m\u001b[1;33m,\u001b[0m \u001b[0mattr\u001b[0m\u001b[1;33m)\u001b[0m\u001b[1;33m:\u001b[0m\u001b[1;33m\u001b[0m\u001b[1;33m\u001b[0m\u001b[0m\n\u001b[0;32m   2100\u001b[0m         \u001b[1;34m\"Delegate attribute access to the interpreter object\"\u001b[0m\u001b[1;33m\u001b[0m\u001b[1;33m\u001b[0m\u001b[0m\n\u001b[1;32m-> 2101\u001b[1;33m         \u001b[1;32mreturn\u001b[0m \u001b[0mgetattr\u001b[0m\u001b[1;33m(\u001b[0m\u001b[0mself\u001b[0m\u001b[1;33m.\u001b[0m\u001b[0mtk\u001b[0m\u001b[1;33m,\u001b[0m \u001b[0mattr\u001b[0m\u001b[1;33m)\u001b[0m\u001b[1;33m\u001b[0m\u001b[1;33m\u001b[0m\u001b[0m\n\u001b[0m\u001b[0;32m   2102\u001b[0m \u001b[1;33m\u001b[0m\u001b[0m\n\u001b[0;32m   2103\u001b[0m \u001b[1;31m# Ideally, the classes Pack, Place and Grid disappear, the\u001b[0m\u001b[1;33m\u001b[0m\u001b[1;33m\u001b[0m\u001b[1;33m\u001b[0m\u001b[0m\n",
      "\u001b[1;31mAttributeError\u001b[0m: '_tkinter.tkapp' object has no attribute 'values'"
     ]
    }
   ],
   "source": [
    "w.values"
   ]
  },
  {
   "cell_type": "code",
   "execution_count": 21,
   "metadata": {},
   "outputs": [],
   "source": [
    "import tkinter as tk\n",
    "import random\n",
    "\n",
    "class App(tk.Tk):\n",
    "    def __init__(self, *args, **kwargs):\n",
    "        tk.Tk.__init__(self, *args, **kwargs)\n",
    "        self.canvas = tk.Canvas(self, width=500, height=500, borderwidth=0, highlightthickness=0)\n",
    "        self.canvas.pack(side=\"top\", fill=\"both\", expand=\"true\")\n",
    "        self.rows = 100\n",
    "        self.columns = 100\n",
    "        self.cellwidth = 25\n",
    "        self.cellheight = 25\n",
    "\n",
    "        self.rect = {}\n",
    "        self.oval = {}\n",
    "        for column in range(20):\n",
    "            for row in range(20):\n",
    "                x1 = column*self.cellwidth\n",
    "                y1 = row * self.cellheight\n",
    "                x2 = x1 + self.cellwidth\n",
    "                y2 = y1 + self.cellheight\n",
    "                self.rect[row,column] = self.canvas.create_rectangle(x1,y1,x2,y2, fill=\"blue\", tags=\"rect\")\n",
    "                self.oval[row,column] = self.canvas.create_oval(x1+2,y1+2,x2-2,y2-2, fill=\"blue\", tags=\"oval\")\n",
    "\n",
    "        self.redraw(1000)\n",
    "\n",
    "    def redraw(self, delay):\n",
    "        self.canvas.itemconfig(\"rect\", fill=\"blue\")\n",
    "        self.canvas.itemconfig(\"oval\", fill=\"blue\")\n",
    "        for i in range(10):\n",
    "            row = random.randint(0,19)\n",
    "            col = random.randint(0,19)\n",
    "            item_id = self.oval[row,col]\n",
    "            self.canvas.itemconfig(item_id, fill=\"green\")\n",
    "        self.after(delay, lambda: self.redraw(delay))"
   ]
  },
  {
   "cell_type": "code",
   "execution_count": 22,
   "metadata": {},
   "outputs": [],
   "source": [
    "app = App()\n",
    "app.mainloop()"
   ]
  },
  {
   "cell_type": "code",
   "execution_count": null,
   "metadata": {},
   "outputs": [],
   "source": []
  }
 ],
 "metadata": {
  "kernelspec": {
   "display_name": "Python 3",
   "language": "python",
   "name": "python3"
  },
  "language_info": {
   "codemirror_mode": {
    "name": "ipython",
    "version": 3
   },
   "file_extension": ".py",
   "mimetype": "text/x-python",
   "name": "python",
   "nbconvert_exporter": "python",
   "pygments_lexer": "ipython3",
   "version": "3.7.1"
  }
 },
 "nbformat": 4,
 "nbformat_minor": 4
}
